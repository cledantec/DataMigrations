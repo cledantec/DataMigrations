{
 "cells": [
  {
   "cell_type": "markdown",
   "metadata": {},
   "source": [
    "# Official Disappearance Notice Classifier"
   ]
  },
  {
   "cell_type": "markdown",
   "metadata": {},
   "source": [
    "### The purpose of this notebook is to classify posts scraped from Facebook based on whether they contain an official disappearance notice from the Mexican government. \n",
    "### This is accomplished by loading previously-downloaded posts stored on a local drive, as well as images stored either in AWS or a local drive. Images are then featurized and a classifier is built and tested against a small hand-labeled subset."
   ]
  },
  {
   "cell_type": "markdown",
   "metadata": {},
   "source": [
    "## Imports"
   ]
  },
  {
   "cell_type": "code",
   "execution_count": 60,
   "metadata": {},
   "outputs": [],
   "source": [
    "import pandas as pd\n",
    "import numpy as np\n",
    "import os\n",
    "import json\n",
    "import string as str_lib\n",
    "from pathlib2 import Path\n",
    "import math\n",
    "from shutil import copy\n",
    "\n",
    "# sklearn\n",
    "from sklearn import metrics\n",
    "from sklearn.metrics import roc_curve, precision_recall_curve, roc_auc_score\n",
    "from sklearn.feature_extraction.text import CountVectorizer, TfidfVectorizer\n",
    "from sklearn.neural_network import MLPClassifier\n",
    "from skimage import feature, color\n",
    "from sklearn.ensemble import RandomForestClassifier, GradientBoostingClassifier\n",
    "from sklearn.linear_model import LogisticRegression\n",
    "from sklearn.feature_selection import RFE\n",
    "from sklearn.model_selection import StratifiedKFold\n",
    "\n",
    "# OCR/image recognition\n",
    "from PIL import Image\n",
    "import skimage\n",
    "import pytesseract\n",
    "#import face_recognition\n",
    "\n",
    "# AWS\n",
    "#import boto3\n",
    "\n",
    "# Spacy\n",
    "import spacy\n",
    "nlp = spacy.load('en_core_web_md')\n",
    "\n",
    "# Altair\n",
    "import altair as alt\n",
    "alt.renderers.enable(\"notebook\") #change to \"default\" for Jupyter Lab\n",
    "\n",
    "# Keras\n",
    "from keras.preprocessing.image import ImageDataGenerator\n",
    "from keras.models import Sequential\n",
    "from keras.layers import Conv2D, MaxPooling2D\n",
    "from keras.layers import Activation, Dropout, Flatten, Dense\n",
    "from keras import backend as K"
   ]
  },
  {
   "cell_type": "markdown",
   "metadata": {},
   "source": [
    "## Load All Facebook posts/comments scraped by NodeXL"
   ]
  },
  {
   "cell_type": "code",
   "execution_count": 3,
   "metadata": {},
   "outputs": [
    {
     "name": "stdout",
     "output_type": "stream",
     "text": [
      "61\n"
     ]
    }
   ],
   "source": [
    "data_directory=\"../Data/NodeXL/\"\n",
    "allFiles = os.listdir(data_directory)\n",
    "files = []\n",
    "#print allFiles\n",
    "for file in allFiles:\n",
    "    if file.endswith('.xlsx'):\n",
    "        files.append(file)\n",
    "print(len(files))"
   ]
  },
  {
   "cell_type": "markdown",
   "metadata": {},
   "source": [
    "## Parse files and combine into a single dataframe"
   ]
  },
  {
   "cell_type": "code",
   "execution_count": 4,
   "metadata": {},
   "outputs": [],
   "source": [
    "#thanks to Valerie for this\n",
    "def build_frame_from_raw_files(file):\n",
    "    #print \"Opening file...\" + str(file)\n",
    "    spreadsheet = pd.ExcelFile(data_directory+file)\n",
    "    #print \"Successfully opened file!\"\n",
    "\n",
    "    #print \"Gathering edge connections.....\"\n",
    "    edges = spreadsheet.parse(\"Edges\", header=1, usecols=[0,1])\n",
    "    #Create dictionary\n",
    "    edges_dict = {}\n",
    "    for index, row in edges.iterrows():\n",
    "        #print row[\"Vertex 1\"]\n",
    "        edges_dict[row[\"Vertex 1\"]] = row[\"Vertex 2\"]\n",
    "    #print edges_dict\n",
    "\n",
    "    #print \"Gathering vertices.....\"\n",
    "    vertices = spreadsheet.parse(\"Vertices\", header=1)\n",
    "    #Add the appropriate dictionary entry to each row by iterating through each row\n",
    "    # and adding the row plus the new Parent column to a new dataset\n",
    "    joined_df = vertices\n",
    "    joined_df['Parent'] = joined_df['Vertex'].map(edges_dict)\n",
    "    if file.find(\"_\") > -1:\n",
    "        joined_df[\"Group\"] = file[:file.find(\"_\")-1]\n",
    "    else:\n",
    "        joined_df[\"Group\"] = file[:file.find(\".xlsx\")-1]\n",
    "    #joined_df[\"Month\"] = file[-8:-5]  \n",
    "    #print joined_df\n",
    "    return joined_df"
   ]
  },
  {
   "cell_type": "code",
   "execution_count": 5,
   "metadata": {},
   "outputs": [
    {
     "name": "stderr",
     "output_type": "stream",
     "text": [
      "//anaconda3/envs/mexico_missing_persons/lib/python3.7/site-packages/ipykernel_launcher.py:3: FutureWarning: Sorting because non-concatenation axis is not aligned. A future version\n",
      "of pandas will change to not sort by default.\n",
      "\n",
      "To accept the future behavior, pass 'sort=False'.\n",
      "\n",
      "To retain the current behavior and silence the warning, pass 'sort=True'.\n",
      "\n",
      "  This is separate from the ipykernel package so we can avoid doing imports until\n"
     ]
    }
   ],
   "source": [
    "#Parse each file in the selected directory\n",
    "df_list = [build_frame_from_raw_files(file) for file in files]\n",
    "raw_df = pd.concat(df_list)"
   ]
  },
  {
   "cell_type": "markdown",
   "metadata": {},
   "source": [
    "## Clean missing data and rename columns"
   ]
  },
  {
   "cell_type": "code",
   "execution_count": 6,
   "metadata": {},
   "outputs": [],
   "source": [
    "raw_df = raw_df.rename(columns={\"Vertex\":\"Post Id\"})"
   ]
  },
  {
   "cell_type": "code",
   "execution_count": 11,
   "metadata": {},
   "outputs": [],
   "source": [
    "#remove bad rows\n",
    "all_df = raw_df.set_index(\"Post Id\", drop=False)\n",
    "raw_df[\"Short Id\"] = raw_df[\"Post Id\"].apply(lambda x: x.replace(\"_\",\"\"))\n",
    "#do the parentless row check twice to get rows that are children of the parentless comments\n",
    "all_df[\"Bad Row\"] = all_df.apply(lambda row: False if row[\"Vertex Type\"] == \"Post\"\\\n",
    "                                 or pd.notnull(row[\"Parent\"]) else True, axis=1)\n",
    "bad_rows_df = all_df[all_df[\"Bad Row\"] == True]\n",
    "all_df[\"Bad Row\"] = all_df.apply(lambda row: True if row[\"Bad Row\"] is True\\\n",
    "                                 or row[\"Parent\"] in bad_rows_df.index else False, axis=1)\n",
    "all_df = all_df[all_df[\"Bad Row\"] == False]\n",
    "all_df = all_df.reset_index(drop = True)"
   ]
  },
  {
   "cell_type": "markdown",
   "metadata": {},
   "source": [
    "## Get hand-labeled dataset and join with posts"
   ]
  },
  {
   "cell_type": "code",
   "execution_count": 13,
   "metadata": {},
   "outputs": [],
   "source": [
    "#get gold standard labels\n",
    "with open('./gold_labels_2.csv') as f:\n",
    "    gold_labels = pd.read_csv(f, index_col=\"Id\").to_dict(orient=\"index\")\n",
    "    all_df[\"Gold Label\"] = all_df[\"Post Id\"].apply(lambda x: (1 if gold_labels.get(x)[\"Gold_Label\"]==\"Y\" else 0)\\\n",
    "                                                  if x in gold_labels else None)"
   ]
  },
  {
   "cell_type": "code",
   "execution_count": 14,
   "metadata": {},
   "outputs": [
    {
     "data": {
      "text/plain": [
       "Gold Label\n",
       "0.0    1173\n",
       "1.0     154\n",
       "dtype: int64"
      ]
     },
     "execution_count": 14,
     "metadata": {},
     "output_type": "execute_result"
    }
   ],
   "source": [
    "all_df.groupby(\"Gold Label\").size()"
   ]
  },
  {
   "cell_type": "markdown",
   "metadata": {},
   "source": [
    "## More Column Creating and Formatting"
   ]
  },
  {
   "cell_type": "code",
   "execution_count": 15,
   "metadata": {},
   "outputs": [],
   "source": [
    "all_df[\"Date\"] = all_df.apply(lambda row: row[\"Post Date\"] if not pd.isnull(row[\"Post Date\"])\\\n",
    "                              else row[\"Comment Date\"],\\\n",
    "                              axis=1)\n",
    "all_df[\"Image URL\"]  = all_df.apply(lambda row: row[\"Image\"] if not pd.isnull(row[\"Image\"])\\\n",
    "                              else row[\"Attachment URL\"],\\\n",
    "                              axis=1)\n",
    "all_df[\"Has Image\"] = all_df[\"Image URL\"].apply(lambda x: pd.notnull(x) and len(x) > 10)"
   ]
  },
  {
   "cell_type": "code",
   "execution_count": 16,
   "metadata": {},
   "outputs": [],
   "source": [
    "post_df = all_df.loc[all_df[\"Vertex Type\"]==\"Post\",[\"Group\", \"Post Id\", \"Short Id\", \"Gold Label\",\"Has Image\"]].copy()"
   ]
  },
  {
   "cell_type": "markdown",
   "metadata": {},
   "source": [
    "## Define methods for featurizing, loading, and parsing images and OCR Text"
   ]
  },
  {
   "cell_type": "code",
   "execution_count": 18,
   "metadata": {},
   "outputs": [],
   "source": [
    "def process_image(img, transform):\n",
    "    if img is None or img.shape[0] == 0:\n",
    "        return None\n",
    "    elif transform == \"hog\":\n",
    "        try:\n",
    "            return feature.hog(img, feature_vector=True, multichannel=True,\\\n",
    "                                   pixels_per_cell=(16,16))\n",
    "        except:\n",
    "            return None\n",
    "    elif transform == \"daisy\":\n",
    "        return feature.daisy(color.rgb2gray(img)).flatten()\n",
    "    elif transform == \"canny\":\n",
    "        return feature.canny(color.rgb2gray(img)).flatten()\n",
    "    elif transform == \"histogram\":\n",
    "        return np.hstack([skimage.exposure.histogram(img[...,c],\\\n",
    "                                                     nbins=20)\\\n",
    "                          for c in [0,1,2]])[0]\n",
    "    elif transform == \"slic\":\n",
    "        return skimage.segmentation.slic(image=img, n_segments=30).flatten()\n",
    "    elif transform == \"corner\":\n",
    "        return feature.corner_moravec(color.rgb2gray(img)).astype(int).flatten()"
   ]
  },
  {
   "cell_type": "code",
   "execution_count": 79,
   "metadata": {},
   "outputs": [],
   "source": [
    "def get_image_from_file(id, width = 64, height = 64):\n",
    "    image_path = \"./Images/\"+str(id)+\".jpg\"\n",
    "    if Path(image_path).is_file():\n",
    "        img = skimage.transform.resize(skimage.io.imread(image_path), (width, height))\n",
    "        return img\n",
    "    return None    \n",
    "#     image_path = \"./Images/\"+str(id)+\".jpg\"\n",
    "#     if Path(image_path).is_file():\n",
    "#         return Image.open(image_path).resize((256,256)).histogram()\n",
    "#                     #.getdata())\n",
    "#     else:\n",
    "#         return None"
   ]
  },
  {
   "cell_type": "code",
   "execution_count": 20,
   "metadata": {},
   "outputs": [],
   "source": [
    "def get_ocr_text(id):    \n",
    "    ocr_text = \"\"\n",
    "    image_path = \"./Images/\"+str(id)+\".jpg\"\n",
    "    if Path(image_path).is_file():\n",
    "        ocr_text = pytesseract.image_to_string(skimage.io.imread(image_path))\n",
    "        return ocr_text if pd.notnull(ocr_text) else \"\"\n",
    "    return \"\""
   ]
  },
  {
   "cell_type": "code",
   "execution_count": 21,
   "metadata": {},
   "outputs": [],
   "source": [
    "def valid_text(x):\n",
    "    if pd.isnull(x):\n",
    "        return False\n",
    "    elif isinstance(x, (int, long, float)):\n",
    "        return False\n",
    "    elif len(x) <= 10:\n",
    "        return False\n",
    "    elif x == \"\":\n",
    "        return False\n",
    "    else:\n",
    "        return True"
   ]
  },
  {
   "cell_type": "code",
   "execution_count": 23,
   "metadata": {},
   "outputs": [],
   "source": [
    "def get_spacy_doc(x):\n",
    "    if valid_text(x):\n",
    "        return nlp(x.replace(\"\\n\",\" \").replace(r\"\\N\",\" \"))\n",
    "    else:\n",
    "        return nlp(u\"\")"
   ]
  },
  {
   "cell_type": "markdown",
   "metadata": {},
   "source": [
    "## Call functions above and load image/OCR data"
   ]
  },
  {
   "cell_type": "code",
   "execution_count": null,
   "metadata": {},
   "outputs": [],
   "source": [
    "# download images\n",
    "# need to supply your own keys here\n",
    "# don't bother running this if files are already downloaded, as it takes a while\n",
    "DOWNLOAD_FROM_AWS = False\n",
    "if DOWNLOAD_FROM_AWS:\n",
    "    session = boto3.Session(aws_access_key_id=ACCESS_KEY,\n",
    "                  aws_secret_access_key=SECRET_KEY)\n",
    "    s3 = session.resource('s3')\n",
    "    bucket = s3.Bucket('fbcrp-ocr-text')\n",
    "\n",
    "    for i, s3_file in enumerate(bucket.objects.all()):\n",
    "        print(i)\n",
    "        #print s3_file.key\n",
    "        #print s3_file.key[s3_file.key.find(\"-\")+1:]\n",
    "        bucket.download_file(s3_file.key, \"./Text/\"+s3_file.key[s3_file.key.find(\"-\")+1:])"
   ]
  },
  {
   "cell_type": "code",
   "execution_count": 24,
   "metadata": {},
   "outputs": [],
   "source": [
    "post_df[\"image_data\"] = post_df[\"Short Id\"].apply(lambda x: get_image_from_file(x))"
   ]
  },
  {
   "cell_type": "code",
   "execution_count": null,
   "metadata": {},
   "outputs": [],
   "source": [
    "post_df[\"ocr_text\"] = post_df[\"Short Id\"].apply(lambda x: get_ocr_text(x))"
   ]
  },
  {
   "cell_type": "code",
   "execution_count": null,
   "metadata": {},
   "outputs": [],
   "source": [
    "post_df[\"ocr_doc\"] = post_df[\"ocr_text\"].apply(lambda x: get_spacy_doc(x))"
   ]
  },
  {
   "cell_type": "code",
   "execution_count": null,
   "metadata": {},
   "outputs": [],
   "source": [
    "cleanedOCR = list(post_df[\"ocr_doc\"].apply(lambda x: \" \".join([token.lemma_ for token in x\\\n",
    "                                                                   if not token.is_punct and not token.is_stop\\\n",
    "                                                               ])))"
   ]
  },
  {
   "cell_type": "code",
   "execution_count": null,
   "metadata": {},
   "outputs": [],
   "source": [
    "post_df = post_df.reset_index(drop=True)"
   ]
  },
  {
   "cell_type": "code",
   "execution_count": null,
   "metadata": {},
   "outputs": [],
   "source": [
    "#adapted from http://www.machinelearningplus.com/nlp/topic-modeling-python-sklearn-examples/\n",
    "ocrVectorizer = CountVectorizer(analyzer='word',\n",
    "                                 min_df=0.01,\n",
    "                                 lowercase=True,\n",
    "                                 token_pattern='[a-zA-Z0-9]{3,}'\n",
    "                                )\n",
    "ocr_vectorized = ocrVectorizer.fit_transform(cleanedOCR)\n",
    "\n",
    "# Materialize the sparse data\n",
    "ocr_dense = ocr_vectorized.todense()\n",
    "word_count_df = pd.DataFrame(data=ocr_dense, columns=[\"OCR_\"+x for x in ocrVectorizer.get_feature_names()])\n",
    "word_count_df.shape"
   ]
  },
  {
   "cell_type": "markdown",
   "metadata": {},
   "source": [
    "## Try a number of different featurizations of the images"
   ]
  },
  {
   "cell_type": "code",
   "execution_count": null,
   "metadata": {},
   "outputs": [],
   "source": [
    "post_df[\"canny_data\"] = post_df[\"image_data\"].apply(lambda x: process_image(x, \"canny\"))\n",
    "post_df[\"canny0_data\"] = post_df[\"canny_data\"].apply(lambda x: None if x is None else\\\n",
    "                                                        np.sum(x.reshape(64,64).astype(int),\\\n",
    "                                                                axis=0))\n",
    "post_df[\"canny1_data\"] = post_df[\"canny_data\"].apply(lambda x:None if x is None else\\\n",
    "                                                        np.sum(x.reshape(64,64).astype(int),\\\n",
    "                                                                axis=1))"
   ]
  },
  {
   "cell_type": "code",
   "execution_count": 29,
   "metadata": {},
   "outputs": [],
   "source": [
    "post_df[\"histogram_data\"] = post_df[\"image_data\"].apply(lambda x: process_image(x, \"histogram\"))"
   ]
  },
  {
   "cell_type": "code",
   "execution_count": 30,
   "metadata": {},
   "outputs": [],
   "source": [
    "post_df[\"hog_data\"] = post_df[\"image_data\"].apply(lambda x: process_image(x, \"hog\"))"
   ]
  },
  {
   "cell_type": "code",
   "execution_count": null,
   "metadata": {},
   "outputs": [],
   "source": [
    "post_df[\"daisy_data\"] = post_df[\"image_data\"].apply(lambda x: process_image(x, \"daisy\"))"
   ]
  },
  {
   "cell_type": "code",
   "execution_count": null,
   "metadata": {},
   "outputs": [],
   "source": [
    "post_df[\"slic_data\"] = post_df[\"image_data\"].apply(lambda x: process_image(x, \"slic\"))"
   ]
  },
  {
   "cell_type": "code",
   "execution_count": null,
   "metadata": {},
   "outputs": [],
   "source": [
    "post_df[\"corner_data\"] = post_df[\"image_data\"].apply(lambda x: process_image(x, \"corner\"))"
   ]
  },
  {
   "cell_type": "code",
   "execution_count": null,
   "metadata": {},
   "outputs": [],
   "source": [
    "post_df[\"has_ocr\"] = post_df[\"ocr_text\"].apply(lambda x: 1 if x!=\"\" else 0)"
   ]
  },
  {
   "cell_type": "markdown",
   "metadata": {},
   "source": [
    "## Use HOG and Histogram Features for classification\n",
    "### Uncomment lines below to evaluate other featurizations\n",
    "### OCR was determined to have little predictive power, so the output in word_count_df is ignored here"
   ]
  },
  {
   "cell_type": "code",
   "execution_count": 31,
   "metadata": {},
   "outputs": [],
   "source": [
    "#filter down to posts with images\n",
    "#images_df = pd.concat([post_df, word_count_df],axis=1)\n",
    "images_df = post_df[(post_df[\"hog_data\"].notnull())].copy()"
   ]
  },
  {
   "cell_type": "code",
   "execution_count": 34,
   "metadata": {},
   "outputs": [],
   "source": [
    "#prep data for classification\n",
    "num_canny_features = 64\n",
    "num_all_canny_features = 4096\n",
    "num_histogram_features = 60\n",
    "num_hog_features = 324\n",
    "num_daisy_features = 16200\n",
    "num_all_slic_features = 4096\n",
    "num_corner_features = 4096\n",
    "X_features_to_drop = [\"Has Image\", \"Short Id\", \"Post Id\", \"Group\", \"Gold Label\",\n",
    "                      \"image_data\", \"hog_data\", \"histogram_data\"]\n",
    "                      #\"slic_data\",\"histogram_data\", \"daisy_data\", \n",
    "                      #\"corner_data\",\"canny_data\", \"canny0_data\", \"canny1_data\",\n",
    "                      #\"ocr_text\", \"ocr_doc\"]\n",
    "#kept_features = [\"corner_\"+str(i) for i in range(num_corner_features)]\n",
    "# for i in range(num_daisy_features):\n",
    "#     images_df[\"daisy_\"+str(i)]\\\n",
    "#      = images_df[\"daisy_data\"].apply(lambda x:x[i] if len(x)==num_daisy_features else -1)\n",
    "# for i in range(num_all_slic_features):\n",
    "#     images_df[\"slic_\"+str(i)]\\\n",
    "#      = images_df[\"slic_data\"].apply(lambda x:(1 if x[i] else 0)\\\n",
    "#                                      if len(x)==num_all_slic_features else -1)\n",
    "# for i in range(num_all_canny_features):\n",
    "#     images_df[\"canny_\"+str(i)]\\\n",
    "#      = images_df[\"canny_data\"].apply(lambda x:(1 if x[i] else 0)\\\n",
    "#                                      if len(x)==num_all_canny_features else -1)\n",
    "for i in range(num_hog_features):\n",
    "    images_df[\"hog_\"+str(i)]\\\n",
    "     = images_df[\"hog_data\"].apply(lambda x:x[i] if len(x)==num_hog_features else -1)\n",
    "# for i in range(num_canny_features):\n",
    "#     images_df[\"canny0_\"+str(i)]\\\n",
    "#     = images_df[\"canny0_data\"].apply(lambda x:x[i] if x.shape[0]==num_canny_features else -1)\n",
    "# for i in range(num_canny_features):\n",
    "#     images_df[\"canny1_\"+str(i)]\\\n",
    "#     = images_df[\"canny1_data\"].apply(lambda x:x[i] if x.shape[0]==num_canny_features else -1)    \n",
    "for i in range(num_histogram_features):\n",
    "    images_df[\"histogram_\"+str(i)]\\\n",
    "    = images_df[\"histogram_data\"].apply(lambda x:x[i] if len(x)\\\n",
    "                                        ==num_histogram_features else -1)\n",
    "# for i in range(num_corner_features):\n",
    "#     images_df[\"corner_\"+str(i)]\\\n",
    "#     = images_df[\"corner_data\"].apply(lambda x:x[i] if len(x)\\\n",
    "#                                         ==num_corner_features else -1)    "
   ]
  },
  {
   "cell_type": "markdown",
   "metadata": {},
   "source": [
    "## Prep Train X by filtering to only those records with images and labels"
   ]
  },
  {
   "cell_type": "code",
   "execution_count": 35,
   "metadata": {},
   "outputs": [
    {
     "data": {
      "text/html": [
       "<div>\n",
       "<style scoped>\n",
       "    .dataframe tbody tr th:only-of-type {\n",
       "        vertical-align: middle;\n",
       "    }\n",
       "\n",
       "    .dataframe tbody tr th {\n",
       "        vertical-align: top;\n",
       "    }\n",
       "\n",
       "    .dataframe thead th {\n",
       "        text-align: right;\n",
       "    }\n",
       "</style>\n",
       "<table border=\"1\" class=\"dataframe\">\n",
       "  <thead>\n",
       "    <tr style=\"text-align: right;\">\n",
       "      <th></th>\n",
       "      <th>hog_0</th>\n",
       "      <th>hog_1</th>\n",
       "      <th>hog_2</th>\n",
       "      <th>hog_3</th>\n",
       "      <th>hog_4</th>\n",
       "      <th>hog_5</th>\n",
       "      <th>hog_6</th>\n",
       "      <th>hog_7</th>\n",
       "      <th>hog_8</th>\n",
       "      <th>hog_9</th>\n",
       "      <th>...</th>\n",
       "      <th>histogram_50</th>\n",
       "      <th>histogram_51</th>\n",
       "      <th>histogram_52</th>\n",
       "      <th>histogram_53</th>\n",
       "      <th>histogram_54</th>\n",
       "      <th>histogram_55</th>\n",
       "      <th>histogram_56</th>\n",
       "      <th>histogram_57</th>\n",
       "      <th>histogram_58</th>\n",
       "      <th>histogram_59</th>\n",
       "    </tr>\n",
       "  </thead>\n",
       "  <tbody>\n",
       "    <tr>\n",
       "      <th>5</th>\n",
       "      <td>0.225447</td>\n",
       "      <td>0.028094</td>\n",
       "      <td>0.003723</td>\n",
       "      <td>0.000000</td>\n",
       "      <td>0.005366</td>\n",
       "      <td>0.000452</td>\n",
       "      <td>0.004940</td>\n",
       "      <td>0.017739</td>\n",
       "      <td>0.194583</td>\n",
       "      <td>0.225447</td>\n",
       "      <td>...</td>\n",
       "      <td>13.0</td>\n",
       "      <td>13.0</td>\n",
       "      <td>9.0</td>\n",
       "      <td>6.0</td>\n",
       "      <td>6.0</td>\n",
       "      <td>6.0</td>\n",
       "      <td>3.0</td>\n",
       "      <td>2.0</td>\n",
       "      <td>5.0</td>\n",
       "      <td>3.0</td>\n",
       "    </tr>\n",
       "    <tr>\n",
       "      <th>41</th>\n",
       "      <td>0.032864</td>\n",
       "      <td>0.011193</td>\n",
       "      <td>0.004284</td>\n",
       "      <td>0.008659</td>\n",
       "      <td>0.241347</td>\n",
       "      <td>0.030587</td>\n",
       "      <td>0.006099</td>\n",
       "      <td>0.002504</td>\n",
       "      <td>0.016721</td>\n",
       "      <td>0.024238</td>\n",
       "      <td>...</td>\n",
       "      <td>35.0</td>\n",
       "      <td>40.0</td>\n",
       "      <td>48.0</td>\n",
       "      <td>53.0</td>\n",
       "      <td>57.0</td>\n",
       "      <td>78.0</td>\n",
       "      <td>129.0</td>\n",
       "      <td>168.0</td>\n",
       "      <td>15.0</td>\n",
       "      <td>15.0</td>\n",
       "    </tr>\n",
       "    <tr>\n",
       "      <th>52</th>\n",
       "      <td>0.159232</td>\n",
       "      <td>0.062261</td>\n",
       "      <td>0.024201</td>\n",
       "      <td>0.015355</td>\n",
       "      <td>0.085880</td>\n",
       "      <td>0.032702</td>\n",
       "      <td>0.019525</td>\n",
       "      <td>0.022334</td>\n",
       "      <td>0.129567</td>\n",
       "      <td>0.125462</td>\n",
       "      <td>...</td>\n",
       "      <td>123.0</td>\n",
       "      <td>127.0</td>\n",
       "      <td>130.0</td>\n",
       "      <td>88.0</td>\n",
       "      <td>109.0</td>\n",
       "      <td>98.0</td>\n",
       "      <td>93.0</td>\n",
       "      <td>115.0</td>\n",
       "      <td>83.0</td>\n",
       "      <td>115.0</td>\n",
       "    </tr>\n",
       "    <tr>\n",
       "      <th>88</th>\n",
       "      <td>0.044370</td>\n",
       "      <td>0.014540</td>\n",
       "      <td>0.010133</td>\n",
       "      <td>0.009249</td>\n",
       "      <td>0.013609</td>\n",
       "      <td>0.009608</td>\n",
       "      <td>0.025111</td>\n",
       "      <td>0.050909</td>\n",
       "      <td>0.068448</td>\n",
       "      <td>0.080865</td>\n",
       "      <td>...</td>\n",
       "      <td>42.0</td>\n",
       "      <td>50.0</td>\n",
       "      <td>54.0</td>\n",
       "      <td>33.0</td>\n",
       "      <td>34.0</td>\n",
       "      <td>35.0</td>\n",
       "      <td>28.0</td>\n",
       "      <td>19.0</td>\n",
       "      <td>11.0</td>\n",
       "      <td>13.0</td>\n",
       "    </tr>\n",
       "    <tr>\n",
       "      <th>116</th>\n",
       "      <td>0.000218</td>\n",
       "      <td>0.000000</td>\n",
       "      <td>0.001096</td>\n",
       "      <td>0.006809</td>\n",
       "      <td>0.036596</td>\n",
       "      <td>0.000159</td>\n",
       "      <td>0.000000</td>\n",
       "      <td>0.000000</td>\n",
       "      <td>0.000000</td>\n",
       "      <td>0.000157</td>\n",
       "      <td>...</td>\n",
       "      <td>50.0</td>\n",
       "      <td>48.0</td>\n",
       "      <td>57.0</td>\n",
       "      <td>81.0</td>\n",
       "      <td>49.0</td>\n",
       "      <td>30.0</td>\n",
       "      <td>78.0</td>\n",
       "      <td>160.0</td>\n",
       "      <td>152.0</td>\n",
       "      <td>2608.0</td>\n",
       "    </tr>\n",
       "  </tbody>\n",
       "</table>\n",
       "<p>5 rows × 384 columns</p>\n",
       "</div>"
      ],
      "text/plain": [
       "        hog_0     hog_1     hog_2     hog_3     hog_4     hog_5     hog_6  \\\n",
       "5    0.225447  0.028094  0.003723  0.000000  0.005366  0.000452  0.004940   \n",
       "41   0.032864  0.011193  0.004284  0.008659  0.241347  0.030587  0.006099   \n",
       "52   0.159232  0.062261  0.024201  0.015355  0.085880  0.032702  0.019525   \n",
       "88   0.044370  0.014540  0.010133  0.009249  0.013609  0.009608  0.025111   \n",
       "116  0.000218  0.000000  0.001096  0.006809  0.036596  0.000159  0.000000   \n",
       "\n",
       "        hog_7     hog_8     hog_9  ...  histogram_50  histogram_51  \\\n",
       "5    0.017739  0.194583  0.225447  ...          13.0          13.0   \n",
       "41   0.002504  0.016721  0.024238  ...          35.0          40.0   \n",
       "52   0.022334  0.129567  0.125462  ...         123.0         127.0   \n",
       "88   0.050909  0.068448  0.080865  ...          42.0          50.0   \n",
       "116  0.000000  0.000000  0.000157  ...          50.0          48.0   \n",
       "\n",
       "     histogram_52  histogram_53  histogram_54  histogram_55  histogram_56  \\\n",
       "5             9.0           6.0           6.0           6.0           3.0   \n",
       "41           48.0          53.0          57.0          78.0         129.0   \n",
       "52          130.0          88.0         109.0          98.0          93.0   \n",
       "88           54.0          33.0          34.0          35.0          28.0   \n",
       "116          57.0          81.0          49.0          30.0          78.0   \n",
       "\n",
       "     histogram_57  histogram_58  histogram_59  \n",
       "5             2.0           5.0           3.0  \n",
       "41          168.0          15.0          15.0  \n",
       "52          115.0          83.0         115.0  \n",
       "88           19.0          11.0          13.0  \n",
       "116         160.0         152.0        2608.0  \n",
       "\n",
       "[5 rows x 384 columns]"
      ]
     },
     "execution_count": 35,
     "metadata": {},
     "output_type": "execute_result"
    }
   ],
   "source": [
    "train_X = images_df[(images_df[\"Gold Label\"].isin([0,1]))].copy()\n",
    "train_Y = train_X.loc[:,\"Gold Label\"]\n",
    "train_X.drop(X_features_to_drop, axis=1).head()"
   ]
  },
  {
   "cell_type": "markdown",
   "metadata": {},
   "source": [
    "## Use Random Forest with Recursive Feature Elimination to select best minimal feature set"
   ]
  },
  {
   "cell_type": "code",
   "execution_count": 49,
   "metadata": {},
   "outputs": [
    {
     "name": "stdout",
     "output_type": "stream",
     "text": [
      "['hog_27' 'hog_34' 'hog_44' 'hog_51' 'hog_73' 'hog_80' 'hog_85' 'hog_108'\n",
      " 'hog_116' 'hog_162' 'hog_163' 'hog_169' 'hog_183' 'hog_185' 'hog_186'\n",
      " 'hog_207' 'hog_208' 'hog_215' 'hog_243' 'hog_251' 'hog_301' 'hog_310'\n",
      " 'hog_319' 'histogram_3' 'histogram_16' 'histogram_18' 'histogram_35'\n",
      " 'histogram_36' 'histogram_55' 'histogram_56']\n"
     ]
    }
   ],
   "source": [
    "clsfFeatures = RandomForestClassifier(n_estimators = 100)#class_weight=\"balanced\")\n",
    "\n",
    "rfe = RFE(estimator=clsfFeatures, step=5, n_features_to_select = 30)\n",
    "rfe.fit(train_X.drop(X_features_to_drop, axis=1), train_Y)\n",
    "#list of retained features\n",
    "kept_feature_ids = rfe.get_support(indices=True)\n",
    "kept_features = np.array(train_X.drop(X_features_to_drop, axis=1).iloc[:,kept_feature_ids].columns.values)\n",
    "print(kept_features)"
   ]
  },
  {
   "cell_type": "markdown",
   "metadata": {},
   "source": [
    "## Now run Gradient Boosting model as the actual classifier\n",
    "### Use K-Fold to evaluate"
   ]
  },
  {
   "cell_type": "code",
   "execution_count": 170,
   "metadata": {},
   "outputs": [
    {
     "name": "stdout",
     "output_type": "stream",
     "text": [
      "Precision Train/Test\n",
      "1.0\n",
      "0.9062087912087913\n",
      "Recall Train/Test\n",
      "1.0\n",
      "0.7604166666666666\n",
      "Accuracy Train/Test\n",
      "1.0\n",
      "0.9522140438178175\n",
      "AUC Score\n",
      "0.9607521847690388\n"
     ]
    }
   ],
   "source": [
    "#K-Fold Evaluation\n",
    "#clsf = RandomForestClassifier(class_weight=\"balanced\", n_estimators=100,\n",
    "                              #max_depth=3, min_samples_leaf=10)\n",
    "clsf = GradientBoostingClassifier(max_depth=3, n_estimators=200)\n",
    "#clsf = LogisticRegression(C=9)\n",
    "#clsf=MLPClassifier(max_iter=400)\n",
    "precisions = {\"train\":[], \"test\":[]}\n",
    "recalls = {\"train\":[], \"test\":[]}\n",
    "accuracies = {\"train\":[], \"test\":[]}\n",
    "aucs = []\n",
    "roc_dfs = []\n",
    "for train, test in StratifiedKFold(10).split(train_X.loc[:,kept_features], train_Y):\n",
    "    clsf.fit(train_X.loc[:,kept_features].iloc[train,:], train_Y.iloc[train])\n",
    "    predictedTrain = clsf.predict(train_X.loc[:,kept_features].iloc[train,:])\n",
    "    predictedTest = clsf.predict(train_X.loc[:,kept_features].iloc[test,:])\n",
    "    precisions[\"train\"].append(metrics.precision_score(train_Y.iloc[train], predictedTrain))\n",
    "    precisions[\"test\"].append(metrics.precision_score(train_Y.iloc[test], predictedTest))\n",
    "    recalls[\"train\"].append(metrics.recall_score(train_Y.iloc[train], predictedTrain))\n",
    "    recalls[\"test\"].append(metrics.recall_score(train_Y.iloc[test], predictedTest))\n",
    "    accuracies[\"train\"].append(metrics.accuracy_score(train_Y.iloc[train], predictedTrain))\n",
    "    accuracies[\"test\"].append(metrics.accuracy_score(train_Y.iloc[test], predictedTest))\n",
    "    \n",
    "    aucs.append(\n",
    "        roc_auc_score(\n",
    "            np.array(train_Y.iloc[test]),\n",
    "            np.array(clsf.decision_function(train_X.loc[:,kept_features].iloc[test,:]))\n",
    "        )\n",
    "    )      \n",
    "    \n",
    "    fpr, tpr, _ = roc_curve(\n",
    "        np.array(train_Y.iloc[test]),\n",
    "        np.array(clsf.decision_function(train_X.loc[:,kept_features].iloc[test,:])),\n",
    "        drop_intermediate=True\n",
    "    )    \n",
    "    \n",
    "    roc_dfs.append(\n",
    "        pd.DataFrame(np.vstack((fpr, tpr)).T)\\\n",
    "        .rename({0:\"False Positive Rate\", 1:\"True Positive Rate\"}, axis = 1)\n",
    "    )\n",
    "  \n",
    "\n",
    "print(\"Precision Train/Test\")\n",
    "print(np.mean(precisions[\"train\"]))\n",
    "print(np.mean(precisions[\"test\"]))\n",
    "print(\"Recall Train/Test\")\n",
    "print(np.mean(recalls[\"train\"]))\n",
    "print(np.mean(recalls[\"test\"]))\n",
    "print(\"Accuracy Train/Test\")\n",
    "print(np.mean(accuracies[\"train\"]))\n",
    "print(np.mean(accuracies[\"test\"]))\n",
    "print(\"AUC Score\")\n",
    "print(np.mean(aucs))"
   ]
  },
  {
   "cell_type": "markdown",
   "metadata": {},
   "source": [
    "## Fit Image Classifier and output results.\n",
    "### Human Labelers can now compare the official disappearance notifications in these posts to online databases to check for name matches"
   ]
  },
  {
   "cell_type": "code",
   "execution_count": 41,
   "metadata": {},
   "outputs": [],
   "source": [
    "clsf.fit(train_X.loc[:,kept_features], train_Y)\n",
    "images_df[\"Prediction\"] = clsf.predict(images_df.loc[:,kept_features])"
   ]
  },
  {
   "cell_type": "code",
   "execution_count": null,
   "metadata": {},
   "outputs": [],
   "source": [
    "images_df[images_df[\"Prediction\"] == 1][[\"Short Id\",\"Post Id\"]].to_csv(\"output.csv\")"
   ]
  },
  {
   "cell_type": "code",
   "execution_count": 43,
   "metadata": {},
   "outputs": [
    {
     "data": {
      "text/html": [
       "<div>\n",
       "<style scoped>\n",
       "    .dataframe tbody tr th:only-of-type {\n",
       "        vertical-align: middle;\n",
       "    }\n",
       "\n",
       "    .dataframe tbody tr th {\n",
       "        vertical-align: top;\n",
       "    }\n",
       "\n",
       "    .dataframe thead th {\n",
       "        text-align: right;\n",
       "    }\n",
       "</style>\n",
       "<table border=\"1\" class=\"dataframe\">\n",
       "  <thead>\n",
       "    <tr style=\"text-align: right;\">\n",
       "      <th></th>\n",
       "      <th>Group</th>\n",
       "      <th>Post Id</th>\n",
       "      <th>Short Id</th>\n",
       "      <th>Gold Label</th>\n",
       "      <th>Has Image</th>\n",
       "      <th>image_data</th>\n",
       "      <th>hog_data</th>\n",
       "      <th>histogram_data</th>\n",
       "      <th>hog_0</th>\n",
       "      <th>hog_1</th>\n",
       "      <th>...</th>\n",
       "      <th>histogram_50</th>\n",
       "      <th>histogram_51</th>\n",
       "      <th>histogram_52</th>\n",
       "      <th>histogram_53</th>\n",
       "      <th>histogram_54</th>\n",
       "      <th>histogram_55</th>\n",
       "      <th>histogram_56</th>\n",
       "      <th>histogram_57</th>\n",
       "      <th>histogram_58</th>\n",
       "      <th>histogram_59</th>\n",
       "    </tr>\n",
       "    <tr>\n",
       "      <th>Prediction</th>\n",
       "      <th></th>\n",
       "      <th></th>\n",
       "      <th></th>\n",
       "      <th></th>\n",
       "      <th></th>\n",
       "      <th></th>\n",
       "      <th></th>\n",
       "      <th></th>\n",
       "      <th></th>\n",
       "      <th></th>\n",
       "      <th></th>\n",
       "      <th></th>\n",
       "      <th></th>\n",
       "      <th></th>\n",
       "      <th></th>\n",
       "      <th></th>\n",
       "      <th></th>\n",
       "      <th></th>\n",
       "      <th></th>\n",
       "      <th></th>\n",
       "      <th></th>\n",
       "    </tr>\n",
       "  </thead>\n",
       "  <tbody>\n",
       "    <tr>\n",
       "      <th>0.0</th>\n",
       "      <td>9148</td>\n",
       "      <td>9148</td>\n",
       "      <td>9148</td>\n",
       "      <td>892</td>\n",
       "      <td>9148</td>\n",
       "      <td>9148</td>\n",
       "      <td>9148</td>\n",
       "      <td>9148</td>\n",
       "      <td>9148</td>\n",
       "      <td>9148</td>\n",
       "      <td>...</td>\n",
       "      <td>9148</td>\n",
       "      <td>9148</td>\n",
       "      <td>9148</td>\n",
       "      <td>9148</td>\n",
       "      <td>9148</td>\n",
       "      <td>9148</td>\n",
       "      <td>9148</td>\n",
       "      <td>9148</td>\n",
       "      <td>9148</td>\n",
       "      <td>9148</td>\n",
       "    </tr>\n",
       "    <tr>\n",
       "      <th>1.0</th>\n",
       "      <td>426</td>\n",
       "      <td>426</td>\n",
       "      <td>426</td>\n",
       "      <td>154</td>\n",
       "      <td>426</td>\n",
       "      <td>426</td>\n",
       "      <td>426</td>\n",
       "      <td>426</td>\n",
       "      <td>426</td>\n",
       "      <td>426</td>\n",
       "      <td>...</td>\n",
       "      <td>426</td>\n",
       "      <td>426</td>\n",
       "      <td>426</td>\n",
       "      <td>426</td>\n",
       "      <td>426</td>\n",
       "      <td>426</td>\n",
       "      <td>426</td>\n",
       "      <td>426</td>\n",
       "      <td>426</td>\n",
       "      <td>426</td>\n",
       "    </tr>\n",
       "  </tbody>\n",
       "</table>\n",
       "<p>2 rows × 392 columns</p>\n",
       "</div>"
      ],
      "text/plain": [
       "            Group  Post Id  Short Id  Gold Label  Has Image  image_data  \\\n",
       "Prediction                                                                \n",
       "0.0          9148     9148      9148         892       9148        9148   \n",
       "1.0           426      426       426         154        426         426   \n",
       "\n",
       "            hog_data  histogram_data  hog_0  hog_1  ...  histogram_50  \\\n",
       "Prediction                                          ...                 \n",
       "0.0             9148            9148   9148   9148  ...          9148   \n",
       "1.0              426             426    426    426  ...           426   \n",
       "\n",
       "            histogram_51  histogram_52  histogram_53  histogram_54  \\\n",
       "Prediction                                                           \n",
       "0.0                 9148          9148          9148          9148   \n",
       "1.0                  426           426           426           426   \n",
       "\n",
       "            histogram_55  histogram_56  histogram_57  histogram_58  \\\n",
       "Prediction                                                           \n",
       "0.0                 9148          9148          9148          9148   \n",
       "1.0                  426           426           426           426   \n",
       "\n",
       "            histogram_59  \n",
       "Prediction                \n",
       "0.0                 9148  \n",
       "1.0                  426  \n",
       "\n",
       "[2 rows x 392 columns]"
      ]
     },
     "execution_count": 43,
     "metadata": {},
     "output_type": "execute_result"
    }
   ],
   "source": [
    "images_df.groupby(\"Prediction\").count()"
   ]
  },
  {
   "cell_type": "markdown",
   "metadata": {},
   "source": [
    "# Alternate Model using a CNN built in Keras"
   ]
  },
  {
   "cell_type": "markdown",
   "metadata": {},
   "source": [
    "## Place train and test samples into required folder structure"
   ]
  },
  {
   "cell_type": "code",
   "execution_count": 72,
   "metadata": {},
   "outputs": [],
   "source": [
    "samples_with_images = images_df[images_df[\"Gold Label\"].isin([0,1])].loc[:,[\"Short Id\", \"Gold Label\"]].to_dict(orient=\"records\")"
   ]
  },
  {
   "cell_type": "code",
   "execution_count": 74,
   "metadata": {},
   "outputs": [],
   "source": [
    "images_to_keras_folder = {}\n",
    "true_train_sample_ids = np.random.choice(\n",
    "    a = [x[\"Short Id\"] for x in samples_with_images if x[\"Gold Label\"] == 1],\n",
    "    size = math.floor(.66*len([x[\"Short Id\"] for x in samples_with_images if x[\"Gold Label\"] == 1])),\n",
    "    replace = False\n",
    ")\n",
    "\n",
    "false_train_sample_ids = np.random.choice(\n",
    "    a = [x[\"Short Id\"] for x in samples_with_images if x[\"Gold Label\"] == 0],\n",
    "    size = math.floor(.66*len([x[\"Short Id\"] for x in samples_with_images if x[\"Gold Label\"] == 0])),\n",
    "    replace = False\n",
    ")\n",
    "\n",
    "\n",
    "images_to_keras_folder[\"true_train\"] = [x[\"Short Id\"] for x in samples_with_images\\\n",
    "                                        if x[\"Gold Label\"] == 1 and x[\"Short Id\"] in true_train_sample_ids]\n",
    "images_to_keras_folder[\"true_validation\"] = [x[\"Short Id\"] for x in samples_with_images\\\n",
    "                                        if x[\"Gold Label\"] == 1 and x[\"Short Id\"] not in true_train_sample_ids]\n",
    "\n",
    "images_to_keras_folder[\"false_train\"] = [x[\"Short Id\"] for x in samples_with_images\\\n",
    "                                        if x[\"Gold Label\"] == 0 and x[\"Short Id\"] in false_train_sample_ids]\n",
    "images_to_keras_folder[\"false_validation\"] = [x[\"Short Id\"] for x in samples_with_images\\\n",
    "                                        if x[\"Gold Label\"] == 0 and x[\"Short Id\"] not in false_train_sample_ids]"
   ]
  },
  {
   "cell_type": "code",
   "execution_count": 76,
   "metadata": {},
   "outputs": [],
   "source": [
    "for x in images_to_keras_folder[\"true_train\"]:\n",
    "    copy(\"./Images/\"+str(x)+\".jpg\", \"./keras_data/train/1\")\n",
    "for x in images_to_keras_folder[\"true_validation\"]:\n",
    "    copy(\"./Images/\"+str(x)+\".jpg\", \"./keras_data/validation/1\")\n",
    "for x in images_to_keras_folder[\"false_train\"]:\n",
    "    copy(\"./Images/\"+str(x)+\".jpg\", \"./keras_data/train/0\")\n",
    "for x in images_to_keras_folder[\"false_validation\"]:\n",
    "    copy(\"./Images/\"+str(x)+\".jpg\", \"./keras_data/validation/0\")    "
   ]
  },
  {
   "cell_type": "markdown",
   "metadata": {},
   "source": [
    "## Build model layers and definition"
   ]
  },
  {
   "cell_type": "code",
   "execution_count": null,
   "metadata": {},
   "outputs": [],
   "source": [
    "# dimensions of our images.\n",
    "img_width, img_height = 150, 150\n",
    "\n",
    "train_data_dir = './keras_data/train'\n",
    "validation_data_dir = './keras_data/validation'\n",
    "nb_train_samples = len(images_to_keras_folder[\"true_train\"]) + len(images_to_keras_folder[\"false_train\"])\n",
    "nb_validation_samples = len(images_to_keras_folder[\"true_validation\"])\\\n",
    "+ len(images_to_keras_folder[\"false_validation\"])\n",
    "epochs = 50\n",
    "batch_size = 16\n",
    "\n",
    "if K.image_data_format() == 'channels_first':\n",
    "    input_shape = (3, img_width, img_height)\n",
    "else:\n",
    "    input_shape = (img_width, img_height, 3)\n",
    "\n",
    "model = Sequential()\n",
    "model.add(Conv2D(32, (3, 3), input_shape=input_shape))\n",
    "model.add(Activation('relu'))\n",
    "model.add(MaxPooling2D(pool_size=(2, 2)))\n",
    "\n",
    "model.add(Conv2D(32, (3, 3)))\n",
    "model.add(Activation('relu'))\n",
    "model.add(MaxPooling2D(pool_size=(2, 2)))\n",
    "\n",
    "model.add(Conv2D(64, (3, 3)))\n",
    "model.add(Activation('relu'))\n",
    "model.add(MaxPooling2D(pool_size=(2, 2)))\n",
    "\n",
    "model.add(Flatten())\n",
    "model.add(Dense(64))\n",
    "model.add(Activation('relu'))\n",
    "model.add(Dropout(0.5))\n",
    "model.add(Dense(1))\n",
    "model.add(Activation('sigmoid'))\n",
    "\n",
    "model.compile(loss='binary_crossentropy',\n",
    "              optimizer='rmsprop',\n",
    "              metrics=['accuracy'])"
   ]
  },
  {
   "cell_type": "markdown",
   "metadata": {},
   "source": [
    "## Construct data generators for grabbing images from files"
   ]
  },
  {
   "cell_type": "code",
   "execution_count": null,
   "metadata": {},
   "outputs": [],
   "source": [
    "# this is the augmentation configuration we will use for training\n",
    "train_datagen = ImageDataGenerator(\n",
    "    rescale=1. / 255,\n",
    "    shear_range=0.2,\n",
    "    zoom_range=0.2,\n",
    "    horizontal_flip=True)\n",
    "\n",
    "# this is the augmentation configuration we will use for testing:\n",
    "# only rescaling\n",
    "test_datagen = ImageDataGenerator(rescale=1. / 255)\n",
    "\n",
    "train_generator = train_datagen.flow_from_directory(\n",
    "    train_data_dir,\n",
    "    target_size=(img_width, img_height),\n",
    "    batch_size=batch_size,\n",
    "    class_mode='binary')\n",
    "\n",
    "validation_generator = test_datagen.flow_from_directory(\n",
    "    validation_data_dir,\n",
    "    target_size=(img_width, img_height),\n",
    "    batch_size=batch_size,\n",
    "    class_mode='binary')"
   ]
  },
  {
   "cell_type": "markdown",
   "metadata": {},
   "source": [
    "## Train the model"
   ]
  },
  {
   "cell_type": "code",
   "execution_count": 84,
   "metadata": {},
   "outputs": [
    {
     "name": "stdout",
     "output_type": "stream",
     "text": [
      "Found 689 images belonging to 2 classes.\n",
      "Found 357 images belonging to 2 classes.\n",
      "Epoch 1/50\n",
      "43/43 [==============================] - 14s 321ms/step - loss: 0.5048 - accuracy: 0.8514 - val_loss: 0.3371 - val_accuracy: 0.8523\n",
      "Epoch 2/50\n",
      "43/43 [==============================] - 13s 302ms/step - loss: 0.3272 - accuracy: 0.8470 - val_loss: 0.1922 - val_accuracy: 0.8475\n",
      "Epoch 3/50\n",
      "43/43 [==============================] - 13s 300ms/step - loss: 0.2997 - accuracy: 0.8588 - val_loss: 0.3103 - val_accuracy: 0.8504\n",
      "Epoch 4/50\n",
      "43/43 [==============================] - 13s 306ms/step - loss: 0.2591 - accuracy: 0.8648 - val_loss: 0.3266 - val_accuracy: 0.8416\n",
      "Epoch 5/50\n",
      "43/43 [==============================] - 14s 337ms/step - loss: 0.2872 - accuracy: 0.8707 - val_loss: 0.0877 - val_accuracy: 0.8710\n",
      "Epoch 6/50\n",
      "43/43 [==============================] - 13s 298ms/step - loss: 0.2627 - accuracy: 0.8930 - val_loss: 0.2450 - val_accuracy: 0.8915\n",
      "Epoch 7/50\n",
      "43/43 [==============================] - 13s 302ms/step - loss: 0.2279 - accuracy: 0.8990 - val_loss: 0.3429 - val_accuracy: 0.8710\n",
      "Epoch 8/50\n",
      "43/43 [==============================] - 13s 299ms/step - loss: 0.2454 - accuracy: 0.8823 - val_loss: 0.0916 - val_accuracy: 0.8886\n",
      "Epoch 9/50\n",
      "43/43 [==============================] - 12s 285ms/step - loss: 0.2438 - accuracy: 0.8921 - val_loss: 0.1919 - val_accuracy: 0.9003\n",
      "Epoch 10/50\n",
      "43/43 [==============================] - 12s 282ms/step - loss: 0.2628 - accuracy: 0.9099 - val_loss: 0.3842 - val_accuracy: 0.9326\n",
      "Epoch 11/50\n",
      "43/43 [==============================] - 12s 277ms/step - loss: 0.2426 - accuracy: 0.8951 - val_loss: 0.3417 - val_accuracy: 0.9062\n",
      "Epoch 12/50\n",
      "43/43 [==============================] - 12s 278ms/step - loss: 0.2161 - accuracy: 0.9257 - val_loss: 0.0068 - val_accuracy: 0.8974\n",
      "Epoch 13/50\n",
      "43/43 [==============================] - 12s 274ms/step - loss: 0.2564 - accuracy: 0.9019 - val_loss: 0.1048 - val_accuracy: 0.9238\n",
      "Epoch 14/50\n",
      "43/43 [==============================] - 12s 283ms/step - loss: 0.3195 - accuracy: 0.9198 - val_loss: 0.4085 - val_accuracy: 0.8152\n",
      "Epoch 15/50\n",
      "43/43 [==============================] - 12s 271ms/step - loss: 0.1925 - accuracy: 0.9157 - val_loss: 0.2713 - val_accuracy: 0.8974\n",
      "Epoch 16/50\n",
      "43/43 [==============================] - 11s 265ms/step - loss: 0.2145 - accuracy: 0.9138 - val_loss: 0.3559 - val_accuracy: 0.8856\n",
      "Epoch 17/50\n",
      "43/43 [==============================] - 11s 250ms/step - loss: 0.2832 - accuracy: 0.9027 - val_loss: 0.0844 - val_accuracy: 0.9384\n",
      "Epoch 18/50\n",
      "43/43 [==============================] - 12s 268ms/step - loss: 0.2088 - accuracy: 0.9172 - val_loss: 0.2042 - val_accuracy: 0.9003\n",
      "Epoch 19/50\n",
      "43/43 [==============================] - 12s 271ms/step - loss: 0.2301 - accuracy: 0.9164 - val_loss: 0.1082 - val_accuracy: 0.9355\n",
      "Epoch 20/50\n",
      "43/43 [==============================] - 13s 306ms/step - loss: 0.1990 - accuracy: 0.9257 - val_loss: 0.1619 - val_accuracy: 0.9179\n",
      "Epoch 21/50\n",
      "43/43 [==============================] - 14s 330ms/step - loss: 0.2561 - accuracy: 0.9157 - val_loss: 0.1117 - val_accuracy: 0.9179\n",
      "Epoch 22/50\n",
      "43/43 [==============================] - 13s 296ms/step - loss: 0.2144 - accuracy: 0.9257 - val_loss: 0.2040 - val_accuracy: 0.9120\n",
      "Epoch 23/50\n",
      "43/43 [==============================] - 12s 273ms/step - loss: 0.2681 - accuracy: 0.9361 - val_loss: 0.2106 - val_accuracy: 0.9296\n",
      "Epoch 24/50\n",
      "43/43 [==============================] - 12s 273ms/step - loss: 0.2175 - accuracy: 0.9286 - val_loss: 0.1289 - val_accuracy: 0.9290\n",
      "Epoch 25/50\n",
      "43/43 [==============================] - 14s 318ms/step - loss: 0.1559 - accuracy: 0.9360 - val_loss: 0.1035 - val_accuracy: 0.8944\n",
      "Epoch 26/50\n",
      "43/43 [==============================] - 11s 267ms/step - loss: 0.1983 - accuracy: 0.9255 - val_loss: 0.2313 - val_accuracy: 0.9062\n",
      "Epoch 27/50\n",
      "43/43 [==============================] - 13s 300ms/step - loss: 0.2027 - accuracy: 0.9157 - val_loss: 0.0687 - val_accuracy: 0.9413\n",
      "Epoch 28/50\n",
      "43/43 [==============================] - 12s 280ms/step - loss: 0.1798 - accuracy: 0.9391 - val_loss: 0.0885 - val_accuracy: 0.9384\n",
      "Epoch 29/50\n",
      "43/43 [==============================] - 13s 302ms/step - loss: 0.2270 - accuracy: 0.9331 - val_loss: 0.1906 - val_accuracy: 0.9003\n",
      "Epoch 30/50\n",
      "43/43 [==============================] - 12s 280ms/step - loss: 0.1664 - accuracy: 0.9288 - val_loss: 0.1410 - val_accuracy: 0.9443\n",
      "Epoch 31/50\n",
      "43/43 [==============================] - 12s 281ms/step - loss: 0.2335 - accuracy: 0.9287 - val_loss: 0.1089 - val_accuracy: 0.9472\n",
      "Epoch 32/50\n",
      "43/43 [==============================] - 12s 277ms/step - loss: 0.2430 - accuracy: 0.9346 - val_loss: 0.0109 - val_accuracy: 0.9413\n",
      "Epoch 33/50\n",
      "43/43 [==============================] - 11s 255ms/step - loss: 0.1945 - accuracy: 0.9301 - val_loss: 0.3028 - val_accuracy: 0.9619\n",
      "Epoch 34/50\n",
      "43/43 [==============================] - 15s 338ms/step - loss: 0.1653 - accuracy: 0.9404 - val_loss: 0.1298 - val_accuracy: 0.9531\n",
      "Epoch 35/50\n",
      "43/43 [==============================] - 13s 299ms/step - loss: 0.2016 - accuracy: 0.9468 - val_loss: 0.3950 - val_accuracy: 0.9003\n",
      "Epoch 36/50\n",
      "43/43 [==============================] - 11s 258ms/step - loss: 0.1749 - accuracy: 0.9421 - val_loss: 0.1503 - val_accuracy: 0.9413\n",
      "Epoch 37/50\n",
      "43/43 [==============================] - 11s 261ms/step - loss: 0.7656 - accuracy: 0.9317 - val_loss: 0.0727 - val_accuracy: 0.9238\n",
      "Epoch 38/50\n",
      "43/43 [==============================] - 11s 257ms/step - loss: 0.1410 - accuracy: 0.9391 - val_loss: 0.1651 - val_accuracy: 0.9355\n",
      "Epoch 39/50\n",
      "43/43 [==============================] - 11s 265ms/step - loss: 0.1949 - accuracy: 0.9435 - val_loss: 0.1229 - val_accuracy: 0.9120\n",
      "Epoch 40/50\n",
      "43/43 [==============================] - 12s 272ms/step - loss: 0.1477 - accuracy: 0.9406 - val_loss: 0.1052 - val_accuracy: 0.9413\n",
      "Epoch 41/50\n",
      "43/43 [==============================] - 11s 266ms/step - loss: 0.1554 - accuracy: 0.9287 - val_loss: 0.1213 - val_accuracy: 0.9413\n",
      "Epoch 42/50\n",
      "43/43 [==============================] - 11s 267ms/step - loss: 0.1910 - accuracy: 0.9316 - val_loss: 0.2073 - val_accuracy: 0.9413\n",
      "Epoch 43/50\n",
      "43/43 [==============================] - 11s 267ms/step - loss: 0.1577 - accuracy: 0.9257 - val_loss: 0.1111 - val_accuracy: 0.9589\n",
      "Epoch 44/50\n",
      "43/43 [==============================] - 12s 273ms/step - loss: 0.2305 - accuracy: 0.9376 - val_loss: 0.0964 - val_accuracy: 0.9296\n",
      "Epoch 45/50\n",
      "43/43 [==============================] - 12s 272ms/step - loss: 0.2393 - accuracy: 0.9331 - val_loss: 0.1359 - val_accuracy: 0.9355\n",
      "Epoch 46/50\n",
      "43/43 [==============================] - 12s 286ms/step - loss: 0.1405 - accuracy: 0.9435 - val_loss: 0.0135 - val_accuracy: 0.8915\n",
      "Epoch 47/50\n",
      "43/43 [==============================] - 12s 290ms/step - loss: 0.1747 - accuracy: 0.9421 - val_loss: 0.2873 - val_accuracy: 0.9233\n",
      "Epoch 48/50\n",
      "43/43 [==============================] - 12s 288ms/step - loss: 0.2192 - accuracy: 0.9346 - val_loss: 0.1517 - val_accuracy: 0.9413\n",
      "Epoch 49/50\n",
      "43/43 [==============================] - 12s 288ms/step - loss: 0.1376 - accuracy: 0.9435 - val_loss: 0.0559 - val_accuracy: 0.9443\n",
      "Epoch 50/50\n",
      "43/43 [==============================] - 12s 280ms/step - loss: 0.1264 - accuracy: 0.9391 - val_loss: 0.1586 - val_accuracy: 0.9443\n"
     ]
    },
    {
     "data": {
      "text/plain": [
       "<keras.callbacks.callbacks.History at 0x1c252f4780>"
      ]
     },
     "execution_count": 84,
     "metadata": {},
     "output_type": "execute_result"
    }
   ],
   "source": [
    "model.fit_generator(\n",
    "    train_generator,\n",
    "    steps_per_epoch=nb_train_samples // batch_size,\n",
    "    epochs=epochs,\n",
    "    validation_data=validation_generator,\n",
    "    validation_steps=nb_validation_samples // batch_size)"
   ]
  },
  {
   "cell_type": "markdown",
   "metadata": {},
   "source": [
    "## Calculate ROC curves and Precision/Recall Curves\n",
    "### Use Gradient Boosting model as it had similar performance to the CNN"
   ]
  },
  {
   "cell_type": "code",
   "execution_count": 160,
   "metadata": {},
   "outputs": [],
   "source": [
    "fpr, tpr, thresholds = roc_curve(\n",
    "    np.array(train_Y.iloc[test]),\n",
    "    np.array(clsf.decision_function(train_X.loc[:,kept_features].iloc[test,:])),\n",
    "    drop_intermediate=True\n",
    ")\n",
    "\n",
    "precision, recall, _ = precision_recall_curve(\n",
    "    np.array(train_Y.iloc[test]),\n",
    "    np.array(clsf.decision_function(train_X.loc[:,kept_features].iloc[test,:])),\n",
    ")\n",
    "\n",
    "auc_score = roc_auc_score(\n",
    "    np.array(train_Y.iloc[test]),\n",
    "    np.array(clsf.decision_function(train_X.loc[:,kept_features].iloc[test,:]))\n",
    ")"
   ]
  },
  {
   "cell_type": "code",
   "execution_count": 161,
   "metadata": {},
   "outputs": [],
   "source": [
    "roc_df = pd.DataFrame(np.vstack((fpr, tpr)).T).rename({0:\"False Positive Rate\", 1:\"True Positive Rate\"}, axis = 1)\n",
    "pr_df = pd.DataFrame(np.vstack((precision, recall)).T).rename({0:\"Precision\", 1:\"Recall\"}, axis = 1)"
   ]
  },
  {
   "cell_type": "markdown",
   "metadata": {},
   "source": [
    "## Output charts for use in paper"
   ]
  },
  {
   "cell_type": "code",
   "execution_count": 183,
   "metadata": {},
   "outputs": [
    {
     "data": {
      "application/javascript": [
       "const spec = {\"config\": {\"view\": {\"width\": 400, \"height\": 300}, \"mark\": {\"tooltip\": null}}, \"data\": {\"name\": \"data-9a4cf7edf104940967e0561d08890221\"}, \"mark\": \"line\", \"background\": \"white\", \"encoding\": {\"x\": {\"type\": \"quantitative\", \"field\": \"False Positive Rate\", \"scale\": {\"domain\": [-0.01, 1]}}, \"y\": {\"type\": \"quantitative\", \"field\": \"True Positive Rate\", \"scale\": {\"domain\": [0, 1.01]}}}, \"title\": \"ROC Curve of Best Classifier on Test set, AUC = 0.957\", \"$schema\": \"https://vega.github.io/schema/vega-lite/v3.4.0.json\", \"datasets\": {\"data-9a4cf7edf104940967e0561d08890221\": [{\"False Positive Rate\": 0.0, \"True Positive Rate\": 0.0}, {\"False Positive Rate\": 0.0, \"True Positive Rate\": 0.06666666666666667}, {\"False Positive Rate\": 0.0, \"True Positive Rate\": 0.4}, {\"False Positive Rate\": 0.011235955056179775, \"True Positive Rate\": 0.4}, {\"False Positive Rate\": 0.011235955056179775, \"True Positive Rate\": 0.6}, {\"False Positive Rate\": 0.02247191011235955, \"True Positive Rate\": 0.6}, {\"False Positive Rate\": 0.02247191011235955, \"True Positive Rate\": 0.7333333333333333}, {\"False Positive Rate\": 0.033707865168539325, \"True Positive Rate\": 0.7333333333333333}, {\"False Positive Rate\": 0.033707865168539325, \"True Positive Rate\": 0.9333333333333333}, {\"False Positive Rate\": 0.06741573033707865, \"True Positive Rate\": 0.9333333333333333}, {\"False Positive Rate\": 0.0898876404494382, \"True Positive Rate\": 0.9333333333333333}, {\"False Positive Rate\": 0.25842696629213485, \"True Positive Rate\": 0.9333333333333333}, {\"False Positive Rate\": 0.30337078651685395, \"True Positive Rate\": 0.9333333333333333}, {\"False Positive Rate\": 0.43820224719101125, \"True Positive Rate\": 0.9333333333333333}, {\"False Positive Rate\": 0.43820224719101125, \"True Positive Rate\": 1.0}, {\"False Positive Rate\": 0.6629213483146067, \"True Positive Rate\": 1.0}, {\"False Positive Rate\": 0.6853932584269663, \"True Positive Rate\": 1.0}, {\"False Positive Rate\": 0.7191011235955056, \"True Positive Rate\": 1.0}, {\"False Positive Rate\": 0.7415730337078652, \"True Positive Rate\": 1.0}, {\"False Positive Rate\": 0.8089887640449438, \"True Positive Rate\": 1.0}, {\"False Positive Rate\": 0.8314606741573034, \"True Positive Rate\": 1.0}, {\"False Positive Rate\": 1.0, \"True Positive Rate\": 1.0}]}};\n",
       "const opt = {};\n",
       "const type = \"vega-lite\";\n",
       "const id = \"d4b2ee13-9f73-4ac8-a0e9-76e4a3a06f5c\";\n",
       "\n",
       "const output_area = this;\n",
       "\n",
       "require([\"nbextensions/jupyter-vega/index\"], function(vega) {\n",
       "  const target = document.createElement(\"div\");\n",
       "  target.id = id;\n",
       "  target.className = \"vega-embed\";\n",
       "\n",
       "  const style = document.createElement(\"style\");\n",
       "  style.textContent = [\n",
       "    \".vega-embed .error p {\",\n",
       "    \"  color: firebrick;\",\n",
       "    \"  font-size: 14px;\",\n",
       "    \"}\",\n",
       "  ].join(\"\\\\n\");\n",
       "\n",
       "  // element is a jQuery wrapped DOM element inside the output area\n",
       "  // see http://ipython.readthedocs.io/en/stable/api/generated/\\\n",
       "  // IPython.display.html#IPython.display.Javascript.__init__\n",
       "  element[0].appendChild(target);\n",
       "  element[0].appendChild(style);\n",
       "\n",
       "  vega.render(\"#\" + id, spec, type, opt, output_area);\n",
       "}, function (err) {\n",
       "  if (err.requireType !== \"scripterror\") {\n",
       "    throw(err);\n",
       "  }\n",
       "});\n"
      ],
      "text/plain": [
       "<vega.vegalite.VegaLite at 0x1c2a8a3240>"
      ]
     },
     "metadata": {
      "jupyter-vega": "#d4b2ee13-9f73-4ac8-a0e9-76e4a3a06f5c"
     },
     "output_type": "display_data"
    },
    {
     "data": {
      "text/plain": []
     },
     "execution_count": 183,
     "metadata": {},
     "output_type": "execute_result"
    },
    {
     "data": {
      "image/png": "[encoded data removed]"
     },
     "metadata": {
      "jupyter-vega": "#d4b2ee13-9f73-4ac8-a0e9-76e4a3a06f5c"
     },
     "output_type": "display_data"
    }
   ],
   "source": [
    "alt.Chart(roc_df).mark_line().encode(\n",
    "    x = alt.X(\"False Positive Rate\", scale = alt.Scale(domain = [-0.01, 1])),\n",
    "    y = alt.Y(\"True Positive Rate\", scale = alt.Scale(domain = [0, 1.01])),\n",
    ").properties(\n",
    "    title = \"ROC Curve of Best Classifier on Test set, AUC = \" + str(round(auc_score,3)),\n",
    "    background = \"white\"\n",
    ")"
   ]
  },
  {
   "cell_type": "code",
   "execution_count": 163,
   "metadata": {},
   "outputs": [
    {
     "data": {
      "application/javascript": [
       "const spec = {\"config\": {\"view\": {\"width\": 400, \"height\": 300}, \"mark\": {\"tooltip\": null}}, \"data\": {\"name\": \"data-40514bdd1b9fa9c334594d2ae5c87f90\"}, \"mark\": \"line\", \"encoding\": {\"x\": {\"type\": \"quantitative\", \"field\": \"Recall\"}, \"y\": {\"type\": \"quantitative\", \"field\": \"Precision\"}}, \"selection\": {\"selector013\": {\"type\": \"interval\", \"bind\": \"scales\", \"encodings\": [\"x\", \"y\"]}}, \"$schema\": \"https://vega.github.io/schema/vega-lite/v3.4.0.json\", \"datasets\": {\"data-40514bdd1b9fa9c334594d2ae5c87f90\": [{\"Precision\": 0.2777777777777778, \"Recall\": 1.0}, {\"Precision\": 0.2641509433962264, \"Recall\": 0.9333333333333333}, {\"Precision\": 0.2692307692307692, \"Recall\": 0.9333333333333333}, {\"Precision\": 0.27450980392156865, \"Recall\": 0.9333333333333333}, {\"Precision\": 0.28, \"Recall\": 0.9333333333333333}, {\"Precision\": 0.2857142857142857, \"Recall\": 0.9333333333333333}, {\"Precision\": 0.2916666666666667, \"Recall\": 0.9333333333333333}, {\"Precision\": 0.2978723404255319, \"Recall\": 0.9333333333333333}, {\"Precision\": 0.30434782608695654, \"Recall\": 0.9333333333333333}, {\"Precision\": 0.3111111111111111, \"Recall\": 0.9333333333333333}, {\"Precision\": 0.3181818181818182, \"Recall\": 0.9333333333333333}, {\"Precision\": 0.32558139534883723, \"Recall\": 0.9333333333333333}, {\"Precision\": 0.3333333333333333, \"Recall\": 0.9333333333333333}, {\"Precision\": 0.34146341463414637, \"Recall\": 0.9333333333333333}, {\"Precision\": 0.3783783783783784, \"Recall\": 0.9333333333333333}, {\"Precision\": 0.3888888888888889, \"Recall\": 0.9333333333333333}, {\"Precision\": 0.4, \"Recall\": 0.9333333333333333}, {\"Precision\": 0.4117647058823529, \"Recall\": 0.9333333333333333}, {\"Precision\": 0.42424242424242425, \"Recall\": 0.9333333333333333}, {\"Precision\": 0.4375, \"Recall\": 0.9333333333333333}, {\"Precision\": 0.45161290322580644, \"Recall\": 0.9333333333333333}, {\"Precision\": 0.4666666666666667, \"Recall\": 0.9333333333333333}, {\"Precision\": 0.4827586206896552, \"Recall\": 0.9333333333333333}, {\"Precision\": 0.5, \"Recall\": 0.9333333333333333}, {\"Precision\": 0.5185185185185185, \"Recall\": 0.9333333333333333}, {\"Precision\": 0.5384615384615384, \"Recall\": 0.9333333333333333}, {\"Precision\": 0.56, \"Recall\": 0.9333333333333333}, {\"Precision\": 0.5833333333333334, \"Recall\": 0.9333333333333333}, {\"Precision\": 0.6086956521739131, \"Recall\": 0.9333333333333333}, {\"Precision\": 0.6363636363636364, \"Recall\": 0.9333333333333333}, {\"Precision\": 0.7, \"Recall\": 0.9333333333333333}, {\"Precision\": 0.7368421052631579, \"Recall\": 0.9333333333333333}, {\"Precision\": 0.7777777777777778, \"Recall\": 0.9333333333333333}, {\"Precision\": 0.8235294117647058, \"Recall\": 0.9333333333333333}, {\"Precision\": 0.8125, \"Recall\": 0.8666666666666667}, {\"Precision\": 0.8, \"Recall\": 0.8}, {\"Precision\": 0.7857142857142857, \"Recall\": 0.7333333333333333}, {\"Precision\": 0.8461538461538461, \"Recall\": 0.7333333333333333}, {\"Precision\": 0.8333333333333334, \"Recall\": 0.6666666666666666}, {\"Precision\": 0.8181818181818182, \"Recall\": 0.6}, {\"Precision\": 0.9, \"Recall\": 0.6}, {\"Precision\": 0.8888888888888888, \"Recall\": 0.5333333333333333}, {\"Precision\": 0.875, \"Recall\": 0.4666666666666667}, {\"Precision\": 0.8571428571428571, \"Recall\": 0.4}, {\"Precision\": 1.0, \"Recall\": 0.4}, {\"Precision\": 1.0, \"Recall\": 0.3333333333333333}, {\"Precision\": 1.0, \"Recall\": 0.26666666666666666}, {\"Precision\": 1.0, \"Recall\": 0.2}, {\"Precision\": 1.0, \"Recall\": 0.13333333333333333}, {\"Precision\": 1.0, \"Recall\": 0.06666666666666667}, {\"Precision\": 1.0, \"Recall\": 0.0}]}};\n",
       "const opt = {};\n",
       "const type = \"vega-lite\";\n",
       "const id = \"008110df-8608-4d88-841f-12aff722ac01\";\n",
       "\n",
       "const output_area = this;\n",
       "\n",
       "require([\"nbextensions/jupyter-vega/index\"], function(vega) {\n",
       "  const target = document.createElement(\"div\");\n",
       "  target.id = id;\n",
       "  target.className = \"vega-embed\";\n",
       "\n",
       "  const style = document.createElement(\"style\");\n",
       "  style.textContent = [\n",
       "    \".vega-embed .error p {\",\n",
       "    \"  color: firebrick;\",\n",
       "    \"  font-size: 14px;\",\n",
       "    \"}\",\n",
       "  ].join(\"\\\\n\");\n",
       "\n",
       "  // element is a jQuery wrapped DOM element inside the output area\n",
       "  // see http://ipython.readthedocs.io/en/stable/api/generated/\\\n",
       "  // IPython.display.html#IPython.display.Javascript.__init__\n",
       "  element[0].appendChild(target);\n",
       "  element[0].appendChild(style);\n",
       "\n",
       "  vega.render(\"#\" + id, spec, type, opt, output_area);\n",
       "}, function (err) {\n",
       "  if (err.requireType !== \"scripterror\") {\n",
       "    throw(err);\n",
       "  }\n",
       "});\n"
      ],
      "text/plain": [
       "<vega.vegalite.VegaLite at 0x1c2a3eed30>"
      ]
     },
     "metadata": {
      "jupyter-vega": "#008110df-8608-4d88-841f-12aff722ac01"
     },
     "output_type": "display_data"
    },
    {
     "data": {
      "text/plain": []
     },
     "execution_count": 163,
     "metadata": {},
     "output_type": "execute_result"
    },
    {
     "data": {
      "image/png": "[encoded data removed]"
     },
     "metadata": {
      "jupyter-vega": "#008110df-8608-4d88-841f-12aff722ac01"
     },
     "output_type": "display_data"
    }
   ],
   "source": [
    "alt.Chart(pr_df).mark_line().encode(\n",
    "    x = \"Recall\",\n",
    "    y = \"Precision\"\n",
    ").interactive()"
   ]
  },
  {
   "cell_type": "code",
   "execution_count": 172,
   "metadata": {},
   "outputs": [],
   "source": [
    "for i, x in enumerate(roc_dfs):\n",
    "    x[\"K Fold Iteration\"] = i"
   ]
  },
  {
   "cell_type": "code",
   "execution_count": 182,
   "metadata": {},
   "outputs": [
    {
     "data": {
      "application/javascript": [
       "const spec = {\"config\": {\"view\": {\"width\": 400, \"height\": 300}, \"mark\": {\"tooltip\": null}}, \"data\": {\"name\": \"data-28ea1a356b460b507b35926be22b9dd8\"}, \"mark\": \"line\", \"background\": \"white\", \"encoding\": {\"color\": {\"type\": \"nominal\", \"field\": \"K Fold Iteration\"}, \"x\": {\"type\": \"quantitative\", \"field\": \"False Positive Rate\", \"scale\": {\"domain\": [-0.01, 1]}}, \"y\": {\"type\": \"quantitative\", \"field\": \"True Positive Rate\", \"scale\": {\"domain\": [0, 1.01]}}}, \"title\": \"ROC Curve of Best Classifier For 10 Folds, mean AUC = 0.961\", \"$schema\": \"https://vega.github.io/schema/vega-lite/v3.4.0.json\", \"datasets\": {\"data-28ea1a356b460b507b35926be22b9dd8\": [{\"False Positive Rate\": 0.0, \"True Positive Rate\": 0.0, \"K Fold Iteration\": 0}, {\"False Positive Rate\": 0.0, \"True Positive Rate\": 0.0625, \"K Fold Iteration\": 0}, {\"False Positive Rate\": 0.0, \"True Positive Rate\": 0.3125, \"K Fold Iteration\": 0}, {\"False Positive Rate\": 0.0, \"True Positive Rate\": 0.5625, \"K Fold Iteration\": 0}, {\"False Positive Rate\": 0.022222222222222223, \"True Positive Rate\": 0.5625, \"K Fold Iteration\": 0}, {\"False Positive Rate\": 0.022222222222222223, \"True Positive Rate\": 0.625, \"K Fold Iteration\": 0}, {\"False Positive Rate\": 0.044444444444444446, \"True Positive Rate\": 0.625, \"K Fold Iteration\": 0}, {\"False Positive Rate\": 0.044444444444444446, \"True Positive Rate\": 0.75, \"K Fold Iteration\": 0}, {\"False Positive Rate\": 0.05555555555555555, \"True Positive Rate\": 0.75, \"K Fold Iteration\": 0}, {\"False Positive Rate\": 0.05555555555555555, \"True Positive Rate\": 0.875, \"K Fold Iteration\": 0}, {\"False Positive Rate\": 0.1, \"True Positive Rate\": 0.875, \"K Fold Iteration\": 0}, {\"False Positive Rate\": 0.1, \"True Positive Rate\": 0.9375, \"K Fold Iteration\": 0}, {\"False Positive Rate\": 0.13333333333333333, \"True Positive Rate\": 0.9375, \"K Fold Iteration\": 0}, {\"False Positive Rate\": 0.13333333333333333, \"True Positive Rate\": 1.0, \"K Fold Iteration\": 0}, {\"False Positive Rate\": 0.7555555555555555, \"True Positive Rate\": 1.0, \"K Fold Iteration\": 0}, {\"False Positive Rate\": 0.7888888888888889, \"True Positive Rate\": 1.0, \"K Fold Iteration\": 0}, {\"False Positive Rate\": 0.8666666666666667, \"True Positive Rate\": 1.0, \"K Fold Iteration\": 0}, {\"False Positive Rate\": 0.9111111111111111, \"True Positive Rate\": 1.0, \"K Fold Iteration\": 0}, {\"False Positive Rate\": 0.9333333333333333, \"True Positive Rate\": 1.0, \"K Fold Iteration\": 0}, {\"False Positive Rate\": 1.0, \"True Positive Rate\": 1.0, \"K Fold Iteration\": 0}, {\"False Positive Rate\": 0.0, \"True Positive Rate\": 0.0, \"K Fold Iteration\": 1}, {\"False Positive Rate\": 0.0, \"True Positive Rate\": 0.0625, \"K Fold Iteration\": 1}, {\"False Positive Rate\": 0.0, \"True Positive Rate\": 0.8125, \"K Fold Iteration\": 1}, {\"False Positive Rate\": 0.05555555555555555, \"True Positive Rate\": 0.8125, \"K Fold Iteration\": 1}, {\"False Positive Rate\": 0.05555555555555555, \"True Positive Rate\": 0.875, \"K Fold Iteration\": 1}, {\"False Positive Rate\": 0.1111111111111111, \"True Positive Rate\": 0.875, \"K Fold Iteration\": 1}, {\"False Positive Rate\": 0.1111111111111111, \"True Positive Rate\": 0.9375, \"K Fold Iteration\": 1}, {\"False Positive Rate\": 0.2, \"True Positive Rate\": 0.9375, \"K Fold Iteration\": 1}, {\"False Positive Rate\": 0.2222222222222222, \"True Positive Rate\": 0.9375, \"K Fold Iteration\": 1}, {\"False Positive Rate\": 0.2222222222222222, \"True Positive Rate\": 1.0, \"K Fold Iteration\": 1}, {\"False Positive Rate\": 0.23333333333333334, \"True Positive Rate\": 1.0, \"K Fold Iteration\": 1}, {\"False Positive Rate\": 0.32222222222222224, \"True Positive Rate\": 1.0, \"K Fold Iteration\": 1}, {\"False Positive Rate\": 0.5333333333333333, \"True Positive Rate\": 1.0, \"K Fold Iteration\": 1}, {\"False Positive Rate\": 0.5666666666666667, \"True Positive Rate\": 1.0, \"K Fold Iteration\": 1}, {\"False Positive Rate\": 1.0, \"True Positive Rate\": 1.0, \"K Fold Iteration\": 1}, {\"False Positive Rate\": 0.0, \"True Positive Rate\": 0.0, \"K Fold Iteration\": 2}, {\"False Positive Rate\": 0.0, \"True Positive Rate\": 0.0625, \"K Fold Iteration\": 2}, {\"False Positive Rate\": 0.0, \"True Positive Rate\": 0.75, \"K Fold Iteration\": 2}, {\"False Positive Rate\": 0.011235955056179775, \"True Positive Rate\": 0.75, \"K Fold Iteration\": 2}, {\"False Positive Rate\": 0.011235955056179775, \"True Positive Rate\": 0.8125, \"K Fold Iteration\": 2}, {\"False Positive Rate\": 0.02247191011235955, \"True Positive Rate\": 0.8125, \"K Fold Iteration\": 2}, {\"False Positive Rate\": 0.02247191011235955, \"True Positive Rate\": 0.875, \"K Fold Iteration\": 2}, {\"False Positive Rate\": 0.15730337078651685, \"True Positive Rate\": 0.875, \"K Fold Iteration\": 2}, {\"False Positive Rate\": 0.15730337078651685, \"True Positive Rate\": 0.9375, \"K Fold Iteration\": 2}, {\"False Positive Rate\": 0.21348314606741572, \"True Positive Rate\": 0.9375, \"K Fold Iteration\": 2}, {\"False Positive Rate\": 0.24719101123595505, \"True Positive Rate\": 0.9375, \"K Fold Iteration\": 2}, {\"False Positive Rate\": 0.2696629213483146, \"True Positive Rate\": 0.9375, \"K Fold Iteration\": 2}, {\"False Positive Rate\": 0.4943820224719101, \"True Positive Rate\": 0.9375, \"K Fold Iteration\": 2}, {\"False Positive Rate\": 0.4943820224719101, \"True Positive Rate\": 1.0, \"K Fold Iteration\": 2}, {\"False Positive Rate\": 0.8876404494382022, \"True Positive Rate\": 1.0, \"K Fold Iteration\": 2}, {\"False Positive Rate\": 0.9101123595505618, \"True Positive Rate\": 1.0, \"K Fold Iteration\": 2}, {\"False Positive Rate\": 1.0, \"True Positive Rate\": 1.0, \"K Fold Iteration\": 2}, {\"False Positive Rate\": 0.0, \"True Positive Rate\": 0.0, \"K Fold Iteration\": 3}, {\"False Positive Rate\": 0.0, \"True Positive Rate\": 0.0625, \"K Fold Iteration\": 3}, {\"False Positive Rate\": 0.0, \"True Positive Rate\": 0.4375, \"K Fold Iteration\": 3}, {\"False Positive Rate\": 0.011235955056179775, \"True Positive Rate\": 0.4375, \"K Fold Iteration\": 3}, {\"False Positive Rate\": 0.011235955056179775, \"True Positive Rate\": 0.625, \"K Fold Iteration\": 3}, {\"False Positive Rate\": 0.011235955056179775, \"True Positive Rate\": 0.75, \"K Fold Iteration\": 3}, {\"False Positive Rate\": 0.011235955056179775, \"True Positive Rate\": 0.8125, \"K Fold Iteration\": 3}, {\"False Positive Rate\": 0.12359550561797752, \"True Positive Rate\": 0.8125, \"K Fold Iteration\": 3}, {\"False Positive Rate\": 0.12359550561797752, \"True Positive Rate\": 0.875, \"K Fold Iteration\": 3}, {\"False Positive Rate\": 0.23595505617977527, \"True Positive Rate\": 0.875, \"K Fold Iteration\": 3}, {\"False Positive Rate\": 0.23595505617977527, \"True Positive Rate\": 0.9375, \"K Fold Iteration\": 3}, {\"False Positive Rate\": 0.4157303370786517, \"True Positive Rate\": 0.9375, \"K Fold Iteration\": 3}, {\"False Positive Rate\": 0.4157303370786517, \"True Positive Rate\": 1.0, \"K Fold Iteration\": 3}, {\"False Positive Rate\": 0.8651685393258427, \"True Positive Rate\": 1.0, \"K Fold Iteration\": 3}, {\"False Positive Rate\": 0.8876404494382022, \"True Positive Rate\": 1.0, \"K Fold Iteration\": 3}, {\"False Positive Rate\": 1.0, \"True Positive Rate\": 1.0, \"K Fold Iteration\": 3}, {\"False Positive Rate\": 0.0, \"True Positive Rate\": 0.0, \"K Fold Iteration\": 4}, {\"False Positive Rate\": 0.0, \"True Positive Rate\": 0.06666666666666667, \"K Fold Iteration\": 4}, {\"False Positive Rate\": 0.0, \"True Positive Rate\": 0.26666666666666666, \"K Fold Iteration\": 4}, {\"False Positive Rate\": 0.0, \"True Positive Rate\": 0.4, \"K Fold Iteration\": 4}, {\"False Positive Rate\": 0.0, \"True Positive Rate\": 0.5333333333333333, \"K Fold Iteration\": 4}, {\"False Positive Rate\": 0.0, \"True Positive Rate\": 0.6666666666666666, \"K Fold Iteration\": 4}, {\"False Positive Rate\": 0.0, \"True Positive Rate\": 0.7333333333333333, \"K Fold Iteration\": 4}, {\"False Positive Rate\": 0.02247191011235955, \"True Positive Rate\": 0.7333333333333333, \"K Fold Iteration\": 4}, {\"False Positive Rate\": 0.02247191011235955, \"True Positive Rate\": 0.8, \"K Fold Iteration\": 4}, {\"False Positive Rate\": 0.20224719101123595, \"True Positive Rate\": 0.8, \"K Fold Iteration\": 4}, {\"False Positive Rate\": 0.20224719101123595, \"True Positive Rate\": 0.8666666666666667, \"K Fold Iteration\": 4}, {\"False Positive Rate\": 0.2247191011235955, \"True Positive Rate\": 0.8666666666666667, \"K Fold Iteration\": 4}, {\"False Positive Rate\": 0.24719101123595505, \"True Positive Rate\": 0.8666666666666667, \"K Fold Iteration\": 4}, {\"False Positive Rate\": 0.24719101123595505, \"True Positive Rate\": 0.9333333333333333, \"K Fold Iteration\": 4}, {\"False Positive Rate\": 0.38202247191011235, \"True Positive Rate\": 0.9333333333333333, \"K Fold Iteration\": 4}, {\"False Positive Rate\": 0.38202247191011235, \"True Positive Rate\": 1.0, \"K Fold Iteration\": 4}, {\"False Positive Rate\": 1.0, \"True Positive Rate\": 1.0, \"K Fold Iteration\": 4}, {\"False Positive Rate\": 0.0, \"True Positive Rate\": 0.0, \"K Fold Iteration\": 5}, {\"False Positive Rate\": 0.0, \"True Positive Rate\": 0.06666666666666667, \"K Fold Iteration\": 5}, {\"False Positive Rate\": 0.0, \"True Positive Rate\": 0.7333333333333333, \"K Fold Iteration\": 5}, {\"False Positive Rate\": 0.011235955056179775, \"True Positive Rate\": 0.7333333333333333, \"K Fold Iteration\": 5}, {\"False Positive Rate\": 0.011235955056179775, \"True Positive Rate\": 0.8, \"K Fold Iteration\": 5}, {\"False Positive Rate\": 0.02247191011235955, \"True Positive Rate\": 0.8, \"K Fold Iteration\": 5}, {\"False Positive Rate\": 0.0449438202247191, \"True Positive Rate\": 0.8, \"K Fold Iteration\": 5}, {\"False Positive Rate\": 0.11235955056179775, \"True Positive Rate\": 0.8, \"K Fold Iteration\": 5}, {\"False Positive Rate\": 0.11235955056179775, \"True Positive Rate\": 0.8666666666666667, \"K Fold Iteration\": 5}, {\"False Positive Rate\": 0.23595505617977527, \"True Positive Rate\": 0.8666666666666667, \"K Fold Iteration\": 5}, {\"False Positive Rate\": 0.25842696629213485, \"True Positive Rate\": 0.8666666666666667, \"K Fold Iteration\": 5}, {\"False Positive Rate\": 0.2808988764044944, \"True Positive Rate\": 0.8666666666666667, \"K Fold Iteration\": 5}, {\"False Positive Rate\": 0.30337078651685395, \"True Positive Rate\": 0.8666666666666667, \"K Fold Iteration\": 5}, {\"False Positive Rate\": 0.30337078651685395, \"True Positive Rate\": 0.9333333333333333, \"K Fold Iteration\": 5}, {\"False Positive Rate\": 0.33707865168539325, \"True Positive Rate\": 0.9333333333333333, \"K Fold Iteration\": 5}, {\"False Positive Rate\": 0.38202247191011235, \"True Positive Rate\": 0.9333333333333333, \"K Fold Iteration\": 5}, {\"False Positive Rate\": 0.43820224719101125, \"True Positive Rate\": 0.9333333333333333, \"K Fold Iteration\": 5}, {\"False Positive Rate\": 0.4606741573033708, \"True Positive Rate\": 0.9333333333333333, \"K Fold Iteration\": 5}, {\"False Positive Rate\": 0.5280898876404494, \"True Positive Rate\": 0.9333333333333333, \"K Fold Iteration\": 5}, {\"False Positive Rate\": 0.5280898876404494, \"True Positive Rate\": 1.0, \"K Fold Iteration\": 5}, {\"False Positive Rate\": 1.0, \"True Positive Rate\": 1.0, \"K Fold Iteration\": 5}, {\"False Positive Rate\": 0.0, \"True Positive Rate\": 0.0, \"K Fold Iteration\": 6}, {\"False Positive Rate\": 0.0, \"True Positive Rate\": 0.06666666666666667, \"K Fold Iteration\": 6}, {\"False Positive Rate\": 0.0, \"True Positive Rate\": 0.5333333333333333, \"K Fold Iteration\": 6}, {\"False Positive Rate\": 0.011235955056179775, \"True Positive Rate\": 0.5333333333333333, \"K Fold Iteration\": 6}, {\"False Positive Rate\": 0.011235955056179775, \"True Positive Rate\": 0.7333333333333333, \"K Fold Iteration\": 6}, {\"False Positive Rate\": 0.02247191011235955, \"True Positive Rate\": 0.7333333333333333, \"K Fold Iteration\": 6}, {\"False Positive Rate\": 0.02247191011235955, \"True Positive Rate\": 0.8, \"K Fold Iteration\": 6}, {\"False Positive Rate\": 0.056179775280898875, \"True Positive Rate\": 0.8, \"K Fold Iteration\": 6}, {\"False Positive Rate\": 0.056179775280898875, \"True Positive Rate\": 0.8666666666666667, \"K Fold Iteration\": 6}, {\"False Positive Rate\": 0.10112359550561797, \"True Positive Rate\": 0.8666666666666667, \"K Fold Iteration\": 6}, {\"False Positive Rate\": 0.14606741573033707, \"True Positive Rate\": 0.8666666666666667, \"K Fold Iteration\": 6}, {\"False Positive Rate\": 0.16853932584269662, \"True Positive Rate\": 0.8666666666666667, \"K Fold Iteration\": 6}, {\"False Positive Rate\": 0.16853932584269662, \"True Positive Rate\": 0.9333333333333333, \"K Fold Iteration\": 6}, {\"False Positive Rate\": 0.24719101123595505, \"True Positive Rate\": 0.9333333333333333, \"K Fold Iteration\": 6}, {\"False Positive Rate\": 0.24719101123595505, \"True Positive Rate\": 1.0, \"K Fold Iteration\": 6}, {\"False Positive Rate\": 0.2808988764044944, \"True Positive Rate\": 1.0, \"K Fold Iteration\": 6}, {\"False Positive Rate\": 0.30337078651685395, \"True Positive Rate\": 1.0, \"K Fold Iteration\": 6}, {\"False Positive Rate\": 1.0, \"True Positive Rate\": 1.0, \"K Fold Iteration\": 6}, {\"False Positive Rate\": 0.0, \"True Positive Rate\": 0.0, \"K Fold Iteration\": 7}, {\"False Positive Rate\": 0.0, \"True Positive Rate\": 0.06666666666666667, \"K Fold Iteration\": 7}, {\"False Positive Rate\": 0.0, \"True Positive Rate\": 0.8666666666666667, \"K Fold Iteration\": 7}, {\"False Positive Rate\": 0.06741573033707865, \"True Positive Rate\": 0.8666666666666667, \"K Fold Iteration\": 7}, {\"False Positive Rate\": 0.06741573033707865, \"True Positive Rate\": 0.9333333333333333, \"K Fold Iteration\": 7}, {\"False Positive Rate\": 0.07865168539325842, \"True Positive Rate\": 0.9333333333333333, \"K Fold Iteration\": 7}, {\"False Positive Rate\": 0.07865168539325842, \"True Positive Rate\": 1.0, \"K Fold Iteration\": 7}, {\"False Positive Rate\": 0.7640449438202247, \"True Positive Rate\": 1.0, \"K Fold Iteration\": 7}, {\"False Positive Rate\": 0.7865168539325843, \"True Positive Rate\": 1.0, \"K Fold Iteration\": 7}, {\"False Positive Rate\": 1.0, \"True Positive Rate\": 1.0, \"K Fold Iteration\": 7}, {\"False Positive Rate\": 0.0, \"True Positive Rate\": 0.0, \"K Fold Iteration\": 8}, {\"False Positive Rate\": 0.0, \"True Positive Rate\": 0.06666666666666667, \"K Fold Iteration\": 8}, {\"False Positive Rate\": 0.0, \"True Positive Rate\": 0.6666666666666666, \"K Fold Iteration\": 8}, {\"False Positive Rate\": 0.011235955056179775, \"True Positive Rate\": 0.6666666666666666, \"K Fold Iteration\": 8}, {\"False Positive Rate\": 0.011235955056179775, \"True Positive Rate\": 0.8, \"K Fold Iteration\": 8}, {\"False Positive Rate\": 0.0449438202247191, \"True Positive Rate\": 0.8, \"K Fold Iteration\": 8}, {\"False Positive Rate\": 0.0449438202247191, \"True Positive Rate\": 0.8666666666666667, \"K Fold Iteration\": 8}, {\"False Positive Rate\": 0.06741573033707865, \"True Positive Rate\": 0.8666666666666667, \"K Fold Iteration\": 8}, {\"False Positive Rate\": 0.0898876404494382, \"True Positive Rate\": 0.8666666666666667, \"K Fold Iteration\": 8}, {\"False Positive Rate\": 0.0898876404494382, \"True Positive Rate\": 0.9333333333333333, \"K Fold Iteration\": 8}, {\"False Positive Rate\": 0.39325842696629215, \"True Positive Rate\": 0.9333333333333333, \"K Fold Iteration\": 8}, {\"False Positive Rate\": 0.39325842696629215, \"True Positive Rate\": 1.0, \"K Fold Iteration\": 8}, {\"False Positive Rate\": 0.5730337078651685, \"True Positive Rate\": 1.0, \"K Fold Iteration\": 8}, {\"False Positive Rate\": 0.5955056179775281, \"True Positive Rate\": 1.0, \"K Fold Iteration\": 8}, {\"False Positive Rate\": 0.6179775280898876, \"True Positive Rate\": 1.0, \"K Fold Iteration\": 8}, {\"False Positive Rate\": 0.6404494382022472, \"True Positive Rate\": 1.0, \"K Fold Iteration\": 8}, {\"False Positive Rate\": 1.0, \"True Positive Rate\": 1.0, \"K Fold Iteration\": 8}, {\"False Positive Rate\": 0.0, \"True Positive Rate\": 0.0, \"K Fold Iteration\": 9}, {\"False Positive Rate\": 0.0, \"True Positive Rate\": 0.06666666666666667, \"K Fold Iteration\": 9}, {\"False Positive Rate\": 0.0, \"True Positive Rate\": 0.4, \"K Fold Iteration\": 9}, {\"False Positive Rate\": 0.011235955056179775, \"True Positive Rate\": 0.4, \"K Fold Iteration\": 9}, {\"False Positive Rate\": 0.011235955056179775, \"True Positive Rate\": 0.6, \"K Fold Iteration\": 9}, {\"False Positive Rate\": 0.02247191011235955, \"True Positive Rate\": 0.6, \"K Fold Iteration\": 9}, {\"False Positive Rate\": 0.02247191011235955, \"True Positive Rate\": 0.7333333333333333, \"K Fold Iteration\": 9}, {\"False Positive Rate\": 0.033707865168539325, \"True Positive Rate\": 0.7333333333333333, \"K Fold Iteration\": 9}, {\"False Positive Rate\": 0.033707865168539325, \"True Positive Rate\": 0.8666666666666667, \"K Fold Iteration\": 9}, {\"False Positive Rate\": 0.0449438202247191, \"True Positive Rate\": 0.8666666666666667, \"K Fold Iteration\": 9}, {\"False Positive Rate\": 0.0449438202247191, \"True Positive Rate\": 0.9333333333333333, \"K Fold Iteration\": 9}, {\"False Positive Rate\": 0.06741573033707865, \"True Positive Rate\": 0.9333333333333333, \"K Fold Iteration\": 9}, {\"False Positive Rate\": 0.0898876404494382, \"True Positive Rate\": 0.9333333333333333, \"K Fold Iteration\": 9}, {\"False Positive Rate\": 0.25842696629213485, \"True Positive Rate\": 0.9333333333333333, \"K Fold Iteration\": 9}, {\"False Positive Rate\": 0.30337078651685395, \"True Positive Rate\": 0.9333333333333333, \"K Fold Iteration\": 9}, {\"False Positive Rate\": 0.43820224719101125, \"True Positive Rate\": 0.9333333333333333, \"K Fold Iteration\": 9}, {\"False Positive Rate\": 0.43820224719101125, \"True Positive Rate\": 1.0, \"K Fold Iteration\": 9}, {\"False Positive Rate\": 0.6629213483146067, \"True Positive Rate\": 1.0, \"K Fold Iteration\": 9}, {\"False Positive Rate\": 0.6853932584269663, \"True Positive Rate\": 1.0, \"K Fold Iteration\": 9}, {\"False Positive Rate\": 0.7191011235955056, \"True Positive Rate\": 1.0, \"K Fold Iteration\": 9}, {\"False Positive Rate\": 0.7415730337078652, \"True Positive Rate\": 1.0, \"K Fold Iteration\": 9}, {\"False Positive Rate\": 0.8089887640449438, \"True Positive Rate\": 1.0, \"K Fold Iteration\": 9}, {\"False Positive Rate\": 0.8314606741573034, \"True Positive Rate\": 1.0, \"K Fold Iteration\": 9}, {\"False Positive Rate\": 1.0, \"True Positive Rate\": 1.0, \"K Fold Iteration\": 9}]}};\n",
       "const opt = {};\n",
       "const type = \"vega-lite\";\n",
       "const id = \"facf7e36-f6e4-4317-b304-f9324395a50f\";\n",
       "\n",
       "const output_area = this;\n",
       "\n",
       "require([\"nbextensions/jupyter-vega/index\"], function(vega) {\n",
       "  const target = document.createElement(\"div\");\n",
       "  target.id = id;\n",
       "  target.className = \"vega-embed\";\n",
       "\n",
       "  const style = document.createElement(\"style\");\n",
       "  style.textContent = [\n",
       "    \".vega-embed .error p {\",\n",
       "    \"  color: firebrick;\",\n",
       "    \"  font-size: 14px;\",\n",
       "    \"}\",\n",
       "  ].join(\"\\\\n\");\n",
       "\n",
       "  // element is a jQuery wrapped DOM element inside the output area\n",
       "  // see http://ipython.readthedocs.io/en/stable/api/generated/\\\n",
       "  // IPython.display.html#IPython.display.Javascript.__init__\n",
       "  element[0].appendChild(target);\n",
       "  element[0].appendChild(style);\n",
       "\n",
       "  vega.render(\"#\" + id, spec, type, opt, output_area);\n",
       "}, function (err) {\n",
       "  if (err.requireType !== \"scripterror\") {\n",
       "    throw(err);\n",
       "  }\n",
       "});\n"
      ],
      "text/plain": [
       "<vega.vegalite.VegaLite at 0x1c2a9a3320>"
      ]
     },
     "metadata": {
      "jupyter-vega": "#facf7e36-f6e4-4317-b304-f9324395a50f"
     },
     "output_type": "display_data"
    },
    {
     "data": {
      "text/plain": []
     },
     "execution_count": 182,
     "metadata": {},
     "output_type": "execute_result"
    },
    {
     "data": {
      "image/png": "[encoded data removed]"
     },
     "metadata": {
      "jupyter-vega": "#facf7e36-f6e4-4317-b304-f9324395a50f"
     },
     "output_type": "display_data"
    }
   ],
   "source": [
    "alt.Chart(pd.concat(roc_dfs)).mark_line().encode(\n",
    "    x = alt.X(\"False Positive Rate\", scale = alt.Scale(domain = [-0.01, 1])),\n",
    "    y = alt.Y(\"True Positive Rate\", scale = alt.Scale(domain = [0, 1.01])),\n",
    "    color = \"K Fold Iteration:N\"\n",
    ").properties(\n",
    "    title = \"ROC Curve of Best Classifier For 10 Folds, mean AUC = \" + str(round(np.mean(aucs),3)),\n",
    "    background = \"white\"\n",
    ")"
   ]
  },
  {
   "cell_type": "code",
   "execution_count": null,
   "metadata": {},
   "outputs": [],
   "source": []
  }
 ],
 "metadata": {
  "kernelspec": {
   "display_name": "Python 3",
   "language": "python",
   "name": "python3"
  },
  "language_info": {
   "codemirror_mode": {
    "name": "ipython",
    "version": 3
   },
   "file_extension": ".py",
   "mimetype": "text/x-python",
   "name": "python",
   "nbconvert_exporter": "python",
   "pygments_lexer": "ipython3",
   "version": "3.7.4"
  }
 },
 "nbformat": 4,
 "nbformat_minor": 4
}
